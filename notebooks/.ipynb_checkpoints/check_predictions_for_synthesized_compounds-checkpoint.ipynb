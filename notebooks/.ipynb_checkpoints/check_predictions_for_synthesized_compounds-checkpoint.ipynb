{
 "cells": [
  {
   "cell_type": "markdown",
   "id": "c9690308",
   "metadata": {},
   "source": [
    "# Check predictions for synthesized compounds\n",
    "\n",
    "395 compounds that we have attempted to synthesize are also contained in the VL. We want to check how well the predictions overlap with the measurements"
   ]
  },
  {
   "cell_type": "markdown",
   "id": "e68c74eb",
   "metadata": {},
   "source": [
    "In this notebook, we only import the compounds that are both synthesized and in VL from a file. That file was originally created from the `virtual_library_frontend.ipynb` but I removed the code there, as that does not fits that notebooks primary purpose. For reproducibility, the code block is given here:\n",
    "```python\n",
    "# find a whole bunch of compounds in the VL\n",
    "queries = [smi.split(\">>\")[1] for smi in pd.read_csv(\"../data/reactionSMILESunbalanced_LCMS_2022-08-25.csv\")[\"SMILES\"].values.tolist()]\n",
    "\n",
    "found = []\n",
    "found_smiles = []\n",
    "for query in queries:\n",
    "    canonical_query = canonicalize_smiles(query)\n",
    "    try:\n",
    "        mol_number = int(df_allsmiles.loc[df_allsmiles[\"smiles\"] == canonical_query, \"mol_number\"])\n",
    "        found.append(mol_number)\n",
    "        found_smiles.append(query)\n",
    "    except TypeError:\n",
    "        #print(\"The input SMILES was not found in the virtual library\")\n",
    "        pass\n",
    "\n",
    "found = sorted(set(found))\n",
    "found_smiles = df_allsmiles.loc[df_allsmiles[\"mol_number\"].isin(found), \"smiles\"].values.tolist()\n",
    "pd.DataFrame([*zip(found, found_smiles)], columns=[\"mol_number\", \"smiles\"]).to_csv(\"../data/synthesized_compounds_in_vl.csv\", index=False)\n",
    "```"
   ]
  },
  {
   "cell_type": "code",
   "execution_count": 66,
   "id": "7026e5a9",
   "metadata": {},
   "outputs": [],
   "source": [
    "import IPython.display\n",
    "import pathlib\n",
    "import pandas as pd\n",
    "import sys\n",
    "sys.path.append(str(pathlib.Path(\"__file__\").absolute().parents[1]))\n",
    "\n",
    "from rdkit import Chem\n",
    "from rdkit.Chem import Draw, rdChemReactions\n",
    "from sklearn.metrics import r2_score\n",
    "import numpy as np\n",
    "\n",
    "from src.util.rdkit_util import remove_mapno_from_reaction, canonicalize_smiles"
   ]
  },
  {
   "cell_type": "code",
   "execution_count": 12,
   "id": "9809193e",
   "metadata": {},
   "outputs": [],
   "source": [
    "vl_dir = pathlib.Path(\"../data/VL/\")"
   ]
  },
  {
   "cell_type": "code",
   "execution_count": 5,
   "id": "10fe0703",
   "metadata": {},
   "outputs": [
    {
     "data": {
      "text/html": [
       "<div>\n",
       "<style scoped>\n",
       "    .dataframe tbody tr th:only-of-type {\n",
       "        vertical-align: middle;\n",
       "    }\n",
       "\n",
       "    .dataframe tbody tr th {\n",
       "        vertical-align: top;\n",
       "    }\n",
       "\n",
       "    .dataframe thead th {\n",
       "        text-align: right;\n",
       "    }\n",
       "</style>\n",
       "<table border=\"1\" class=\"dataframe\">\n",
       "  <thead>\n",
       "    <tr style=\"text-align: right;\">\n",
       "      <th></th>\n",
       "      <th>mol_number</th>\n",
       "      <th>smiles</th>\n",
       "    </tr>\n",
       "  </thead>\n",
       "  <tbody>\n",
       "    <tr>\n",
       "      <th>0</th>\n",
       "      <td>33970</td>\n",
       "      <td>CCC(CC)C1COCC(c2ccc(C(F)(F)F)cc2)N1</td>\n",
       "    </tr>\n",
       "    <tr>\n",
       "      <th>1</th>\n",
       "      <td>34492</td>\n",
       "      <td>Clc1ccc(C2COCC(c3cccc(Br)c3)N2)cc1Cl</td>\n",
       "    </tr>\n",
       "    <tr>\n",
       "      <th>2</th>\n",
       "      <td>70282</td>\n",
       "      <td>CCOC(=O)N1CC(c2nccs2)NC(C2CCOCC2)C1</td>\n",
       "    </tr>\n",
       "    <tr>\n",
       "      <th>3</th>\n",
       "      <td>156658</td>\n",
       "      <td>N#Cc1cc(C2COCC(c3cc(Cl)cc(Cl)c3)N2)ccc1F</td>\n",
       "    </tr>\n",
       "    <tr>\n",
       "      <th>4</th>\n",
       "      <td>226399</td>\n",
       "      <td>CCOC(=O)N1CC(c2ccc(O)cc2)NC(C2CCCCC2)C1</td>\n",
       "    </tr>\n",
       "    <tr>\n",
       "      <th>...</th>\n",
       "      <td>...</td>\n",
       "      <td>...</td>\n",
       "    </tr>\n",
       "    <tr>\n",
       "      <th>388</th>\n",
       "      <td>17281673</td>\n",
       "      <td>Cc1ccc(C2COCC(c3ccc(C(C)(C)C)cc3)N2)cc1</td>\n",
       "    </tr>\n",
       "    <tr>\n",
       "      <th>389</th>\n",
       "      <td>17346743</td>\n",
       "      <td>c1ccc(-c2ccc(C3COCC(C4CC4)N3)cc2)cc1</td>\n",
       "    </tr>\n",
       "    <tr>\n",
       "      <th>390</th>\n",
       "      <td>17416302</td>\n",
       "      <td>Cn1cc(C2COCC(c3ccc4ccccc4c3)N2)cn1</td>\n",
       "    </tr>\n",
       "    <tr>\n",
       "      <th>391</th>\n",
       "      <td>17454694</td>\n",
       "      <td>Cc1ccc(C2COCC(c3cccnc3)N2)cc1</td>\n",
       "    </tr>\n",
       "    <tr>\n",
       "      <th>392</th>\n",
       "      <td>17471632</td>\n",
       "      <td>COC(=O)c1ccc(C2COCC(c3ccc(Cl)cc3)N2)cc1</td>\n",
       "    </tr>\n",
       "  </tbody>\n",
       "</table>\n",
       "<p>393 rows × 2 columns</p>\n",
       "</div>"
      ],
      "text/plain": [
       "     mol_number                                    smiles\n",
       "0         33970       CCC(CC)C1COCC(c2ccc(C(F)(F)F)cc2)N1\n",
       "1         34492      Clc1ccc(C2COCC(c3cccc(Br)c3)N2)cc1Cl\n",
       "2         70282       CCOC(=O)N1CC(c2nccs2)NC(C2CCOCC2)C1\n",
       "3        156658  N#Cc1cc(C2COCC(c3cc(Cl)cc(Cl)c3)N2)ccc1F\n",
       "4        226399   CCOC(=O)N1CC(c2ccc(O)cc2)NC(C2CCCCC2)C1\n",
       "..          ...                                       ...\n",
       "388    17281673   Cc1ccc(C2COCC(c3ccc(C(C)(C)C)cc3)N2)cc1\n",
       "389    17346743      c1ccc(-c2ccc(C3COCC(C4CC4)N3)cc2)cc1\n",
       "390    17416302        Cn1cc(C2COCC(c3ccc4ccccc4c3)N2)cn1\n",
       "391    17454694             Cc1ccc(C2COCC(c3cccnc3)N2)cc1\n",
       "392    17471632   COC(=O)c1ccc(C2COCC(c3ccc(Cl)cc3)N2)cc1\n",
       "\n",
       "[393 rows x 2 columns]"
      ]
     },
     "execution_count": 5,
     "metadata": {},
     "output_type": "execute_result"
    }
   ],
   "source": [
    "synthesized_vl_members = pd.read_csv(\"../data/synthesized_compounds_in_vl.csv\")\n",
    "synthesized_vl_members"
   ]
  },
  {
   "cell_type": "code",
   "execution_count": 6,
   "id": "fa01b3f0",
   "metadata": {},
   "outputs": [],
   "source": [
    "# determine which chunk the data we are looking for is in\n",
    "synthesized_vl_members[\"chunk\"] = synthesized_vl_members[\"mol_number\"] // 10000"
   ]
  },
  {
   "cell_type": "code",
   "execution_count": 7,
   "id": "61c10d32",
   "metadata": {
    "scrolled": true
   },
   "outputs": [
    {
     "data": {
      "text/html": [
       "<div>\n",
       "<style scoped>\n",
       "    .dataframe tbody tr th:only-of-type {\n",
       "        vertical-align: middle;\n",
       "    }\n",
       "\n",
       "    .dataframe tbody tr th {\n",
       "        vertical-align: top;\n",
       "    }\n",
       "\n",
       "    .dataframe thead th {\n",
       "        text-align: right;\n",
       "    }\n",
       "</style>\n",
       "<table border=\"1\" class=\"dataframe\">\n",
       "  <thead>\n",
       "    <tr style=\"text-align: right;\">\n",
       "      <th></th>\n",
       "      <th>mol_number</th>\n",
       "      <th>smiles</th>\n",
       "      <th>chunk</th>\n",
       "    </tr>\n",
       "  </thead>\n",
       "  <tbody>\n",
       "    <tr>\n",
       "      <th>0</th>\n",
       "      <td>33970</td>\n",
       "      <td>CCC(CC)C1COCC(c2ccc(C(F)(F)F)cc2)N1</td>\n",
       "      <td>3</td>\n",
       "    </tr>\n",
       "    <tr>\n",
       "      <th>1</th>\n",
       "      <td>34492</td>\n",
       "      <td>Clc1ccc(C2COCC(c3cccc(Br)c3)N2)cc1Cl</td>\n",
       "      <td>3</td>\n",
       "    </tr>\n",
       "    <tr>\n",
       "      <th>2</th>\n",
       "      <td>70282</td>\n",
       "      <td>CCOC(=O)N1CC(c2nccs2)NC(C2CCOCC2)C1</td>\n",
       "      <td>7</td>\n",
       "    </tr>\n",
       "    <tr>\n",
       "      <th>3</th>\n",
       "      <td>156658</td>\n",
       "      <td>N#Cc1cc(C2COCC(c3cc(Cl)cc(Cl)c3)N2)ccc1F</td>\n",
       "      <td>15</td>\n",
       "    </tr>\n",
       "    <tr>\n",
       "      <th>4</th>\n",
       "      <td>226399</td>\n",
       "      <td>CCOC(=O)N1CC(c2ccc(O)cc2)NC(C2CCCCC2)C1</td>\n",
       "      <td>22</td>\n",
       "    </tr>\n",
       "    <tr>\n",
       "      <th>...</th>\n",
       "      <td>...</td>\n",
       "      <td>...</td>\n",
       "      <td>...</td>\n",
       "    </tr>\n",
       "    <tr>\n",
       "      <th>388</th>\n",
       "      <td>17281673</td>\n",
       "      <td>Cc1ccc(C2COCC(c3ccc(C(C)(C)C)cc3)N2)cc1</td>\n",
       "      <td>1728</td>\n",
       "    </tr>\n",
       "    <tr>\n",
       "      <th>389</th>\n",
       "      <td>17346743</td>\n",
       "      <td>c1ccc(-c2ccc(C3COCC(C4CC4)N3)cc2)cc1</td>\n",
       "      <td>1734</td>\n",
       "    </tr>\n",
       "    <tr>\n",
       "      <th>390</th>\n",
       "      <td>17416302</td>\n",
       "      <td>Cn1cc(C2COCC(c3ccc4ccccc4c3)N2)cn1</td>\n",
       "      <td>1741</td>\n",
       "    </tr>\n",
       "    <tr>\n",
       "      <th>391</th>\n",
       "      <td>17454694</td>\n",
       "      <td>Cc1ccc(C2COCC(c3cccnc3)N2)cc1</td>\n",
       "      <td>1745</td>\n",
       "    </tr>\n",
       "    <tr>\n",
       "      <th>392</th>\n",
       "      <td>17471632</td>\n",
       "      <td>COC(=O)c1ccc(C2COCC(c3ccc(Cl)cc3)N2)cc1</td>\n",
       "      <td>1747</td>\n",
       "    </tr>\n",
       "  </tbody>\n",
       "</table>\n",
       "<p>393 rows × 3 columns</p>\n",
       "</div>"
      ],
      "text/plain": [
       "     mol_number                                    smiles  chunk\n",
       "0         33970       CCC(CC)C1COCC(c2ccc(C(F)(F)F)cc2)N1      3\n",
       "1         34492      Clc1ccc(C2COCC(c3cccc(Br)c3)N2)cc1Cl      3\n",
       "2         70282       CCOC(=O)N1CC(c2nccs2)NC(C2CCOCC2)C1      7\n",
       "3        156658  N#Cc1cc(C2COCC(c3cc(Cl)cc(Cl)c3)N2)ccc1F     15\n",
       "4        226399   CCOC(=O)N1CC(c2ccc(O)cc2)NC(C2CCCCC2)C1     22\n",
       "..          ...                                       ...    ...\n",
       "388    17281673   Cc1ccc(C2COCC(c3ccc(C(C)(C)C)cc3)N2)cc1   1728\n",
       "389    17346743      c1ccc(-c2ccc(C3COCC(C4CC4)N3)cc2)cc1   1734\n",
       "390    17416302        Cn1cc(C2COCC(c3ccc4ccccc4c3)N2)cn1   1741\n",
       "391    17454694             Cc1ccc(C2COCC(c3cccnc3)N2)cc1   1745\n",
       "392    17471632   COC(=O)c1ccc(C2COCC(c3ccc(Cl)cc3)N2)cc1   1747\n",
       "\n",
       "[393 rows x 3 columns]"
      ]
     },
     "execution_count": 7,
     "metadata": {},
     "output_type": "execute_result"
    }
   ],
   "source": [
    "synthesized_vl_members"
   ]
  },
  {
   "cell_type": "code",
   "execution_count": 17,
   "id": "4370c39b",
   "metadata": {},
   "outputs": [],
   "source": [
    "# read only the file for the relevant chunk\n",
    "df_compound_list = []\n",
    "for chunk in synthesized_vl_members[\"chunk\"].unique():\n",
    "    df_props = pd.read_csv(vl_dir / f\"VL_chunk_{chunk:04}.csv.bz2\")\n",
    "    # extract the queried compounds\n",
    "    for mol_number in synthesized_vl_members.loc[synthesized_vl_members[\"chunk\"] == chunk, \"mol_number\"]:\n",
    "        df_compound = df_props.loc[df_props[\"mol_number\"] == mol_number]\n",
    "        df_compound_list.append(df_compound)"
   ]
  },
  {
   "cell_type": "code",
   "execution_count": 19,
   "id": "add18bce",
   "metadata": {},
   "outputs": [],
   "source": [
    "df_pred = pd.concat(df_compound_list)"
   ]
  },
  {
   "cell_type": "code",
   "execution_count": 21,
   "id": "3d5a93a4",
   "metadata": {},
   "outputs": [],
   "source": [
    "# now import the measured data\n",
    "# start with properties\n",
    "df_props = pd.read_csv(\"../data/Data S3 - clean_novartis_2022-08-25.csv\")"
   ]
  },
  {
   "cell_type": "code",
   "execution_count": 38,
   "id": "cc2243fa",
   "metadata": {},
   "outputs": [],
   "source": [
    "df_props.loc[df_props[\"Structure\"].isna(), \"Structure\"] = \"\""
   ]
  },
  {
   "cell_type": "code",
   "execution_count": 39,
   "id": "7259dd21",
   "metadata": {},
   "outputs": [],
   "source": [
    "smiles = []\n",
    "for structure in df_props[\"Structure\"]:\n",
    "    smiles.append(canonicalize_smiles(structure.replace(\"@\", \"\")))"
   ]
  },
  {
   "cell_type": "code",
   "execution_count": 41,
   "id": "dd5ae626",
   "metadata": {},
   "outputs": [],
   "source": [
    "df_props[\"smiles\"] = smiles"
   ]
  },
  {
   "cell_type": "code",
   "execution_count": 47,
   "id": "7b40846f",
   "metadata": {},
   "outputs": [],
   "source": [
    "merged = df_pred.merge(df_props, on=\"smiles\", how=\"left\")"
   ]
  },
  {
   "cell_type": "code",
   "execution_count": 67,
   "id": "446687a0",
   "metadata": {},
   "outputs": [],
   "source": [
    "merged[\"predicted_Solubility_pH6.8_(mM)\"] = 10 ** merged[\"predicted_logSolubility_pH6.8_(mM)\"]\n",
    "merged[\"High Throughput Equilibrium logSolubility pH 6.8 (mM)\"] = np.log10(merged[\"High Throughput Equilibrium Solubility pH 6.8 (mM)\"])"
   ]
  },
  {
   "cell_type": "code",
   "execution_count": 69,
   "id": "6e83fc54",
   "metadata": {},
   "outputs": [
    {
     "data": {
      "text/html": [
       "<div>\n",
       "<style scoped>\n",
       "    .dataframe tbody tr th:only-of-type {\n",
       "        vertical-align: middle;\n",
       "    }\n",
       "\n",
       "    .dataframe tbody tr th {\n",
       "        vertical-align: top;\n",
       "    }\n",
       "\n",
       "    .dataframe thead th {\n",
       "        text-align: right;\n",
       "    }\n",
       "</style>\n",
       "<table border=\"1\" class=\"dataframe\">\n",
       "  <thead>\n",
       "    <tr style=\"text-align: right;\">\n",
       "      <th></th>\n",
       "      <th>smiles</th>\n",
       "      <th>predicted_Solubility_pH6.8_(mM)</th>\n",
       "      <th>High Throughput Equilibrium Solubility pH 6.8 (mM)</th>\n",
       "    </tr>\n",
       "  </thead>\n",
       "  <tbody>\n",
       "    <tr>\n",
       "      <th>3</th>\n",
       "      <td>N#Cc1cc(C2COCC(c3cc(Cl)cc(Cl)c3)N2)ccc1F</td>\n",
       "      <td>0.008235</td>\n",
       "      <td>0.004</td>\n",
       "    </tr>\n",
       "    <tr>\n",
       "      <th>4</th>\n",
       "      <td>N#Cc1cc(C2COCC(c3cc(Cl)cc(Cl)c3)N2)ccc1F</td>\n",
       "      <td>0.008235</td>\n",
       "      <td>0.012</td>\n",
       "    </tr>\n",
       "    <tr>\n",
       "      <th>5</th>\n",
       "      <td>N#Cc1cc(C2COCC(c3cc(Cl)cc(Cl)c3)N2)ccc1F</td>\n",
       "      <td>0.008235</td>\n",
       "      <td>0.004</td>\n",
       "    </tr>\n",
       "    <tr>\n",
       "      <th>6</th>\n",
       "      <td>N#Cc1cc(C2COCC(c3cc(Cl)cc(Cl)c3)N2)ccc1F</td>\n",
       "      <td>0.008235</td>\n",
       "      <td>0.006</td>\n",
       "    </tr>\n",
       "    <tr>\n",
       "      <th>7</th>\n",
       "      <td>CCOC(=O)N1CC(c2ccc(O)cc2)NC(C2CCCCC2)C1</td>\n",
       "      <td>0.240490</td>\n",
       "      <td>0.246</td>\n",
       "    </tr>\n",
       "    <tr>\n",
       "      <th>...</th>\n",
       "      <td>...</td>\n",
       "      <td>...</td>\n",
       "      <td>...</td>\n",
       "    </tr>\n",
       "    <tr>\n",
       "      <th>499</th>\n",
       "      <td>c1ccc(-c2ccc(C3COCC(C4CC4)N3)cc2)cc1</td>\n",
       "      <td>0.068172</td>\n",
       "      <td>0.115</td>\n",
       "    </tr>\n",
       "    <tr>\n",
       "      <th>500</th>\n",
       "      <td>c1ccc(-c2ccc(C3COCC(C4CC4)N3)cc2)cc1</td>\n",
       "      <td>0.068172</td>\n",
       "      <td>0.750</td>\n",
       "    </tr>\n",
       "    <tr>\n",
       "      <th>501</th>\n",
       "      <td>c1ccc(-c2ccc(C3COCC(C4CC4)N3)cc2)cc1</td>\n",
       "      <td>0.068172</td>\n",
       "      <td>0.089</td>\n",
       "    </tr>\n",
       "    <tr>\n",
       "      <th>504</th>\n",
       "      <td>COC(=O)c1ccc(C2COCC(c3ccc(Cl)cc3)N2)cc1</td>\n",
       "      <td>0.014373</td>\n",
       "      <td>0.004</td>\n",
       "    </tr>\n",
       "    <tr>\n",
       "      <th>505</th>\n",
       "      <td>COC(=O)c1ccc(C2COCC(c3ccc(Cl)cc3)N2)cc1</td>\n",
       "      <td>0.014373</td>\n",
       "      <td>0.059</td>\n",
       "    </tr>\n",
       "  </tbody>\n",
       "</table>\n",
       "<p>261 rows × 3 columns</p>\n",
       "</div>"
      ],
      "text/plain": [
       "                                       smiles  \\\n",
       "3    N#Cc1cc(C2COCC(c3cc(Cl)cc(Cl)c3)N2)ccc1F   \n",
       "4    N#Cc1cc(C2COCC(c3cc(Cl)cc(Cl)c3)N2)ccc1F   \n",
       "5    N#Cc1cc(C2COCC(c3cc(Cl)cc(Cl)c3)N2)ccc1F   \n",
       "6    N#Cc1cc(C2COCC(c3cc(Cl)cc(Cl)c3)N2)ccc1F   \n",
       "7     CCOC(=O)N1CC(c2ccc(O)cc2)NC(C2CCCCC2)C1   \n",
       "..                                        ...   \n",
       "499      c1ccc(-c2ccc(C3COCC(C4CC4)N3)cc2)cc1   \n",
       "500      c1ccc(-c2ccc(C3COCC(C4CC4)N3)cc2)cc1   \n",
       "501      c1ccc(-c2ccc(C3COCC(C4CC4)N3)cc2)cc1   \n",
       "504   COC(=O)c1ccc(C2COCC(c3ccc(Cl)cc3)N2)cc1   \n",
       "505   COC(=O)c1ccc(C2COCC(c3ccc(Cl)cc3)N2)cc1   \n",
       "\n",
       "     predicted_Solubility_pH6.8_(mM)  \\\n",
       "3                           0.008235   \n",
       "4                           0.008235   \n",
       "5                           0.008235   \n",
       "6                           0.008235   \n",
       "7                           0.240490   \n",
       "..                               ...   \n",
       "499                         0.068172   \n",
       "500                         0.068172   \n",
       "501                         0.068172   \n",
       "504                         0.014373   \n",
       "505                         0.014373   \n",
       "\n",
       "     High Throughput Equilibrium Solubility pH 6.8 (mM)  \n",
       "3                                                0.004   \n",
       "4                                                0.012   \n",
       "5                                                0.004   \n",
       "6                                                0.006   \n",
       "7                                                0.246   \n",
       "..                                                 ...   \n",
       "499                                              0.115   \n",
       "500                                              0.750   \n",
       "501                                              0.089   \n",
       "504                                              0.004   \n",
       "505                                              0.059   \n",
       "\n",
       "[261 rows x 3 columns]"
      ]
     },
     "execution_count": 69,
     "metadata": {},
     "output_type": "execute_result"
    }
   ],
   "source": [
    "# check solubility predictions\n",
    "df_sol = merged.dropna(subset=[\"predicted_Solubility_pH6.8_(mM)\", \"High Throughput Equilibrium Solubility pH 6.8 (mM)\"])\n",
    "df_sol[[\"smiles\", \"predicted_Solubility_pH6.8_(mM)\", \"High Throughput Equilibrium Solubility pH 6.8 (mM)\"]]"
   ]
  },
  {
   "cell_type": "code",
   "execution_count": 70,
   "id": "57c6785f",
   "metadata": {},
   "outputs": [
    {
     "data": {
      "text/plain": [
       "<AxesSubplot:xlabel='predicted_Solubility_pH6.8_(mM)', ylabel='High Throughput Equilibrium Solubility pH 6.8 (mM)'>"
      ]
     },
     "execution_count": 70,
     "metadata": {},
     "output_type": "execute_result"
    },
    {
     "data": {
      "image/png": "[encoded data removed]",
      "text/plain": [
       "<Figure size 640x480 with 1 Axes>"
      ]
     },
     "metadata": {},
     "output_type": "display_data"
    }
   ],
   "source": [
    "df_sol[[\"smiles\", \"predicted_Solubility_pH6.8_(mM)\", \"High Throughput Equilibrium Solubility pH 6.8 (mM)\"]].plot.scatter(x=\"predicted_Solubility_pH6.8_(mM)\", y=\"High Throughput Equilibrium Solubility pH 6.8 (mM)\")\n"
   ]
  },
  {
   "cell_type": "code",
   "execution_count": 71,
   "id": "8961c39a",
   "metadata": {},
   "outputs": [
    {
     "data": {
      "text/plain": [
       "0.7909315840514685"
      ]
     },
     "execution_count": 71,
     "metadata": {},
     "output_type": "execute_result"
    }
   ],
   "source": [
    "r2_score(df_sol[\"High Throughput Equilibrium Solubility pH 6.8 (mM)\"], df_sol[\"predicted_Solubility_pH6.8_(mM)\"])"
   ]
  },
  {
   "cell_type": "code",
   "execution_count": 73,
   "id": "ce5ab49a",
   "metadata": {
    "scrolled": false
   },
   "outputs": [
    {
     "data": {
      "text/plain": [
       "<AxesSubplot:xlabel='predicted_logSolubility_pH6.8_(mM)', ylabel='High Throughput Equilibrium logSolubility pH 6.8 (mM)'>"
      ]
     },
     "execution_count": 73,
     "metadata": {},
     "output_type": "execute_result"
    },
    {
     "data": {
      "image/png": "[encoded data removed]",
      "text/plain": [
       "<Figure size 640x480 with 1 Axes>"
      ]
     },
     "metadata": {},
     "output_type": "display_data"
    }
   ],
   "source": [
    "# look at the same thing again but in logarithm\n",
    "df_sol[[\"smiles\", \"predicted_logSolubility_pH6.8_(mM)\", \"High Throughput Equilibrium logSolubility pH 6.8 (mM)\"]].plot.scatter(x=\"predicted_logSolubility_pH6.8_(mM)\", y=\"High Throughput Equilibrium logSolubility pH 6.8 (mM)\")\n"
   ]
  },
  {
   "cell_type": "code",
   "execution_count": 74,
   "id": "0d11620e",
   "metadata": {},
   "outputs": [],
   "source": [
    "# let's look at logD next\n",
    "df_logd = merged.dropna(subset=[\"predicted_logD_pH7.4\", \"Direct logP/D in 1-octanol/buffer measure logD\"])\n",
    "df_logd[[\"smiles\", \"predicted_logD_pH7.4\", \"Direct logP/D in 1-octanol/buffer measure logD\"]]"
   ]
  },
  {
   "cell_type": "code",
   "execution_count": 78,
   "id": "a161361c",
   "metadata": {
    "scrolled": false
   },
   "outputs": [
    {
     "data": {
      "text/plain": [
       "<AxesSubplot:xlabel='predicted_logD_pH7.4', ylabel='Direct logP/D in 1-octanol/buffer measure logD'>"
      ]
     },
     "execution_count": 78,
     "metadata": {},
     "output_type": "execute_result"
    },
    {
     "data": {
      "image/png": "[encoded data removed]",
      "text/plain": [
       "<Figure size 640x480 with 1 Axes>"
      ]
     },
     "metadata": {},
     "output_type": "display_data"
    }
   ],
   "source": [
    "df_logd[[\"smiles\", \"predicted_logD_pH7.4\", \"Direct logP/D in 1-octanol/buffer measure logD\"]].plot.scatter(x=\"predicted_logD_pH7.4\", y=\"Direct logP/D in 1-octanol/buffer measure logD\")\n"
   ]
  },
  {
   "cell_type": "code",
   "execution_count": 79,
   "id": "79fa6df3",
   "metadata": {},
   "outputs": [
    {
     "data": {
      "text/plain": [
       "0.8647081022582377"
      ]
     },
     "execution_count": 79,
     "metadata": {},
     "output_type": "execute_result"
    }
   ],
   "source": [
    "r2_score(df_logd[\"Direct logP/D in 1-octanol/buffer measure logD\"], df_logd[\"predicted_logD_pH7.4\"])"
   ]
  },
  {
   "cell_type": "code",
   "execution_count": 81,
   "id": "fd0b9349",
   "metadata": {},
   "outputs": [
    {
     "data": {
      "text/html": [
       "<div>\n",
       "<style scoped>\n",
       "    .dataframe tbody tr th:only-of-type {\n",
       "        vertical-align: middle;\n",
       "    }\n",
       "\n",
       "    .dataframe tbody tr th {\n",
       "        vertical-align: top;\n",
       "    }\n",
       "\n",
       "    .dataframe thead th {\n",
       "        text-align: right;\n",
       "    }\n",
       "</style>\n",
       "<table border=\"1\" class=\"dataframe\">\n",
       "  <thead>\n",
       "    <tr style=\"text-align: right;\">\n",
       "      <th></th>\n",
       "      <th>smiles</th>\n",
       "      <th>center1_pKa</th>\n",
       "      <th>High-Throughput Ionization Constants pKa1</th>\n",
       "    </tr>\n",
       "  </thead>\n",
       "  <tbody>\n",
       "    <tr>\n",
       "      <th>3</th>\n",
       "      <td>N#Cc1cc(C2COCC(c3cc(Cl)cc(Cl)c3)N2)ccc1F</td>\n",
       "      <td>5.79</td>\n",
       "      <td>4.80000</td>\n",
       "    </tr>\n",
       "    <tr>\n",
       "      <th>4</th>\n",
       "      <td>N#Cc1cc(C2COCC(c3cc(Cl)cc(Cl)c3)N2)ccc1F</td>\n",
       "      <td>5.79</td>\n",
       "      <td>5.00000</td>\n",
       "    </tr>\n",
       "    <tr>\n",
       "      <th>5</th>\n",
       "      <td>N#Cc1cc(C2COCC(c3cc(Cl)cc(Cl)c3)N2)ccc1F</td>\n",
       "      <td>5.79</td>\n",
       "      <td>4.70000</td>\n",
       "    </tr>\n",
       "    <tr>\n",
       "      <th>6</th>\n",
       "      <td>N#Cc1cc(C2COCC(c3cc(Cl)cc(Cl)c3)N2)ccc1F</td>\n",
       "      <td>5.79</td>\n",
       "      <td>4.90000</td>\n",
       "    </tr>\n",
       "    <tr>\n",
       "      <th>7</th>\n",
       "      <td>CCOC(=O)N1CC(c2ccc(O)cc2)NC(C2CCCCC2)C1</td>\n",
       "      <td>10.26</td>\n",
       "      <td>7.53578</td>\n",
       "    </tr>\n",
       "    <tr>\n",
       "      <th>...</th>\n",
       "      <td>...</td>\n",
       "      <td>...</td>\n",
       "      <td>...</td>\n",
       "    </tr>\n",
       "    <tr>\n",
       "      <th>492</th>\n",
       "      <td>CC1(C)OCC(c2ccc(O)cc2)NC1c1ccc(Cl)c(Cl)c1</td>\n",
       "      <td>9.79</td>\n",
       "      <td>5.80000</td>\n",
       "    </tr>\n",
       "    <tr>\n",
       "      <th>496</th>\n",
       "      <td>CCOC(=O)N1CC(c2cccc(OC)c2)NC(C2CC2)C1</td>\n",
       "      <td>8.00</td>\n",
       "      <td>7.20772</td>\n",
       "    </tr>\n",
       "    <tr>\n",
       "      <th>497</th>\n",
       "      <td>CCOC(=O)N1CC(CC(C)C)NC(c2ccc(O)cc2)C1</td>\n",
       "      <td>10.26</td>\n",
       "      <td>7.66420</td>\n",
       "    </tr>\n",
       "    <tr>\n",
       "      <th>501</th>\n",
       "      <td>c1ccc(-c2ccc(C3COCC(C4CC4)N3)cc2)cc1</td>\n",
       "      <td>8.60</td>\n",
       "      <td>7.50000</td>\n",
       "    </tr>\n",
       "    <tr>\n",
       "      <th>504</th>\n",
       "      <td>COC(=O)c1ccc(C2COCC(c3ccc(Cl)cc3)N2)cc1</td>\n",
       "      <td>6.86</td>\n",
       "      <td>5.70000</td>\n",
       "    </tr>\n",
       "  </tbody>\n",
       "</table>\n",
       "<p>153 rows × 3 columns</p>\n",
       "</div>"
      ],
      "text/plain": [
       "                                        smiles  center1_pKa  \\\n",
       "3     N#Cc1cc(C2COCC(c3cc(Cl)cc(Cl)c3)N2)ccc1F         5.79   \n",
       "4     N#Cc1cc(C2COCC(c3cc(Cl)cc(Cl)c3)N2)ccc1F         5.79   \n",
       "5     N#Cc1cc(C2COCC(c3cc(Cl)cc(Cl)c3)N2)ccc1F         5.79   \n",
       "6     N#Cc1cc(C2COCC(c3cc(Cl)cc(Cl)c3)N2)ccc1F         5.79   \n",
       "7      CCOC(=O)N1CC(c2ccc(O)cc2)NC(C2CCCCC2)C1        10.26   \n",
       "..                                         ...          ...   \n",
       "492  CC1(C)OCC(c2ccc(O)cc2)NC1c1ccc(Cl)c(Cl)c1         9.79   \n",
       "496      CCOC(=O)N1CC(c2cccc(OC)c2)NC(C2CC2)C1         8.00   \n",
       "497      CCOC(=O)N1CC(CC(C)C)NC(c2ccc(O)cc2)C1        10.26   \n",
       "501       c1ccc(-c2ccc(C3COCC(C4CC4)N3)cc2)cc1         8.60   \n",
       "504    COC(=O)c1ccc(C2COCC(c3ccc(Cl)cc3)N2)cc1         6.86   \n",
       "\n",
       "     High-Throughput Ionization Constants pKa1  \n",
       "3                                      4.80000  \n",
       "4                                      5.00000  \n",
       "5                                      4.70000  \n",
       "6                                      4.90000  \n",
       "7                                      7.53578  \n",
       "..                                         ...  \n",
       "492                                    5.80000  \n",
       "496                                    7.20772  \n",
       "497                                    7.66420  \n",
       "501                                    7.50000  \n",
       "504                                    5.70000  \n",
       "\n",
       "[153 rows x 3 columns]"
      ]
     },
     "execution_count": 81,
     "metadata": {},
     "output_type": "execute_result"
    }
   ],
   "source": [
    "# and last, pKa\n",
    "df_pka = merged.dropna(subset=[\"center1_pKa\", \"High-Throughput Ionization Constants pKa1\"])\n",
    "df_pka[[\"smiles\", \"center1_pKa\", \"High-Throughput Ionization Constants pKa1\"]]"
   ]
  },
  {
   "cell_type": "code",
   "execution_count": 82,
   "id": "32d5db33",
   "metadata": {},
   "outputs": [
    {
     "data": {
      "text/plain": [
       "<AxesSubplot:xlabel='center1_pKa', ylabel='High-Throughput Ionization Constants pKa1'>"
      ]
     },
     "execution_count": 82,
     "metadata": {},
     "output_type": "execute_result"
    },
    {
     "data": {
      "image/png": "[encoded data removed]",
      "text/plain": [
       "<Figure size 640x480 with 1 Axes>"
      ]
     },
     "metadata": {},
     "output_type": "display_data"
    }
   ],
   "source": [
    "df_pka[[\"smiles\", \"center1_pKa\", \"High-Throughput Ionization Constants pKa1\"]].plot.scatter(x=\"center1_pKa\", y=\"High-Throughput Ionization Constants pKa1\")\n"
   ]
  },
  {
   "cell_type": "code",
   "execution_count": 84,
   "id": "2a2c7aa9",
   "metadata": {},
   "outputs": [
    {
     "data": {
      "text/plain": [
       "-4.680580451182803"
      ]
     },
     "execution_count": 84,
     "metadata": {},
     "output_type": "execute_result"
    }
   ],
   "source": [
    "r2_score(df_pka[\"High-Throughput Ionization Constants pKa1\"], df_pka[\"center1_pKa\"])"
   ]
  },
  {
   "cell_type": "code",
   "execution_count": 94,
   "id": "ec77e7fd",
   "metadata": {},
   "outputs": [
    {
     "data": {
      "text/plain": [
       "<AxesSubplot:xlabel='center1_pKa', ylabel='High-Throughput Ionization Constants pKa1'>"
      ]
     },
     "execution_count": 94,
     "metadata": {},
     "output_type": "execute_result"
    },
    {
     "data": {
      "image/png": "[encoded data removed]",
      "text/plain": [
       "<Figure size 640x480 with 1 Axes>"
      ]
     },
     "metadata": {},
     "output_type": "display_data"
    }
   ],
   "source": [
    "# this looks bad. We limit ourselves to compounds with just one ionizable center so we are sure we compare the right things\n",
    "df_pka.loc[df_pka[\"center2_pKa\"].isna()][[\"smiles\", \"center1_pKa\", \"High-Throughput Ionization Constants pKa1\"]].plot.scatter(x=\"center1_pKa\", y=\"High-Throughput Ionization Constants pKa1\")"
   ]
  },
  {
   "cell_type": "code",
   "execution_count": 95,
   "id": "1d8eb92a",
   "metadata": {},
   "outputs": [
    {
     "data": {
      "text/plain": [
       "-0.23165520283033292"
      ]
     },
     "execution_count": 95,
     "metadata": {},
     "output_type": "execute_result"
    }
   ],
   "source": [
    "r2_score(df_pka.loc[df_pka[\"center2_pKa\"].isna()][\"High-Throughput Ionization Constants pKa1\"], df_pka.loc[df_pka[\"center2_pKa\"].isna()][\"center1_pKa\"])"
   ]
  }
 ],
 "metadata": {
  "kernelspec": {
   "display_name": "Python 3 (ipykernel)",
   "language": "python",
   "name": "python3"
  },
  "language_info": {
   "codemirror_mode": {
    "name": "ipython",
    "version": 3
   },
   "file_extension": ".py",
   "mimetype": "text/x-python",
   "name": "python",
   "nbconvert_exporter": "python",
   "pygments_lexer": "ipython3",
   "version": "3.7.13"
  }
 },
 "nbformat": 4,
 "nbformat_minor": 5
}
