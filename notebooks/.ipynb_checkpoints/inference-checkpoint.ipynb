{
 "cells": [
  {
   "cell_type": "markdown",
   "id": "62c4535b",
   "metadata": {},
   "source": [
    "# Inference using the SLAP models "
   ]
  },
  {
   "cell_type": "markdown",
   "id": "65d90127",
   "metadata": {},
   "source": [
    "Predict reaction outcome for morpholine/piperazine products.\n",
    "\n",
    "The input to this are SMILES of the desired product(s).\n",
    "Inputs can be supplied directly as a csv file with one column named \"smiles\" and arbitrary additional columns.\n",
    "\n",
    "The output is:\n",
    "- all (one or two) reactionSMILES that lead to this product using the SLAP platform\n",
    "- for each reaction, a classification of whether the reaction is expected to work\n",
    "- for each reaction, a rough estimate of the confidence for this prediction\n",
    "\n",
    "The output is written to a new csv file containing all columns from the input file, and six new columns: `rxn1_smiles`, `rxn1_prediction`, `rxn1_confidence`, `rxn2_smiles`, `rxn2_prediction`, `rxn2_confidence`.\n",
    "\n",
    "Columns `rxn2_*` may have empty fields.\n",
    "\n",
    "Predictions are given as `0` (meaning no reaction expected) or `1` (meaning successful reaction expected). Only if the reaction is known, instead of the prediction, the mean of the known reaction outcome(s) is returned.\n",
    "Confidence is given as an integer in the range `0-4`, with `0` indicating the highest confidence.\n",
    "Confidence is determined based on the complexity of the prediction problem using the following heuristic:\n",
    "- `0`: known reactions\n",
    "- `1`: both reactants known in other reactions\n",
    "- `2`: exactly one reactant known in other reactions\n",
    "- `3`: unknown reactants, similar to training data\n",
    "- `4`: unknown reactants, dissimilar to training data\n"
   ]
  },
  {
   "cell_type": "code",
   "execution_count": 1,
   "id": "d83b22f9",
   "metadata": {},
   "outputs": [
    {
     "name": "stderr",
     "output_type": "stream",
     "text": [
      "WARNING:root:No normalization for BCUT2D_MWHI\n",
      "WARNING:root:No normalization for BCUT2D_MWLOW\n",
      "WARNING:root:No normalization for BCUT2D_CHGHI\n",
      "WARNING:root:No normalization for BCUT2D_CHGLO\n",
      "WARNING:root:No normalization for BCUT2D_LOGPHI\n",
      "WARNING:root:No normalization for BCUT2D_LOGPLOW\n",
      "WARNING:root:No normalization for BCUT2D_MRHI\n",
      "WARNING:root:No normalization for BCUT2D_MRLOW\n"
     ]
    }
   ],
   "source": [
    "import pathlib\n",
    "import statistics\n",
    "import sys\n",
    "sys.path.append(str(pathlib.Path(\"__file__\").absolute().parents[1]))\n",
    "import warnings\n",
    "\n",
    "import numpy as np\n",
    "import pandas as pd\n",
    "import pytorch_lightning as pl\n",
    "import torch\n",
    "from torch.utils.data import DataLoader\n",
    "\n",
    "from src.model.classifier import load_trained_model\n",
    "with warnings.catch_warnings(record=True):  \n",
    "    # ignore the descriptastorus package warning about missing normalizations\n",
    "    from src.data.dataloader import SLAPProductDataset, collate_fn"
   ]
  },
  {
   "cell_type": "code",
   "execution_count": 2,
   "id": "d79eb05a",
   "metadata": {},
   "outputs": [],
   "source": [
    "# paths to the best models\n",
    "model_0D = \"../production_models/2022-12-16-144509_863758/best.ckpt\"  # FFN\n",
    "model_1D = \"../production_models/2022-12-16-145840_448790/best.ckpt\"  # D-MPNN\n",
    "model_2D = \"../production_models/2022-12-06-115456_273019/best.ckpt\"  # D-MPNN\n",
    "# path to the OneHotEncoder state for model_0D\n",
    "ohe_state_dict = \"../logs/OHE_state_dict_FqIDTIsCHoURGQcv.json\""
   ]
  },
  {
   "cell_type": "code",
   "execution_count": 3,
   "id": "62e51e04",
   "metadata": {},
   "outputs": [],
   "source": [
    "def import_valid_smiles_from_vl(raw_dir: pathlib.Path, filename_base: str):\n",
    "    \"\"\"Import smiles from a csv file and filter by values in the `valid` column of a second csv file\"\"\"\n",
    "    indices = raw_dir / f\"{filename_base}_valid.csv\"\n",
    "    smiles_file = raw_dir / f\"{filename_base}.csv\"\n",
    "    indices_arr = pd.read_csv(indices)[\"valid\"].values\n",
    "    smiles_df = pd.read_csv(smiles_file)\n",
    "    return smiles_df[indices_arr]"
   ]
  },
  {
   "cell_type": "code",
   "execution_count": 4,
   "id": "e1ac6857",
   "metadata": {},
   "outputs": [
    {
     "name": "stdout",
     "output_type": "stream",
     "text": [
      "WARNING: Could not generate reaction for product with index 962. Using dummy reaction.\n",
      "Error leading to this warning: Encountered RuntimeError while generating reaction for product 'Cc1ccc(C2COCC(C3CC[Si](C)(C)C3)N2)cc1O'.\n",
      "Original error message: More than one reaction found for SLAP reagent 'C[Si](C)(C)COCC(N)C1CC[Si](C)(C)C1' and aldehyde 'Cc1ccc(C=O)cc1O'.\n",
      "Reactions:\n",
      "C[Si]1(C)[CH2:8][CH2:7][CH:6]([CH:4]([CH2:3][O:16][CH2:17][Si:18]([CH3:19])([CH3:20])[CH3:21])[NH2:5])[CH2:22]1.O=[CH:2][c:1]1[cH:9][cH:11][c:13]([CH3:15])[c:12]([OH:14])[cH:10]1>>[c:1]1([CH:2]2[NH:5][CH:4]([CH2:3][O:16][CH2:17][Si:18]([CH3:19])([CH3:20])[CH3:21])[CH:6]([CH3:22])[CH2:7][CH2:8]2)[cH:9][cH:11][c:13]([CH3:15])[c:12]([OH:14])[cH:10]1\n",
      "C[Si](C)(C)[CH2:8][O:7][CH2:6][CH:4]([CH:3]1[CH2:16][CH2:18][Si:19]([CH3:20])([CH3:21])[CH2:17]1)[NH2:5].O=[CH:2][c:1]1[cH:9][cH:11][c:13]([CH3:15])[c:12]([OH:14])[cH:10]1>>[c:1]1([CH:2]2[NH:5][CH:4]([CH:3]3[CH2:16][CH2:18][Si:19]([CH3:20])([CH3:21])[CH2:17]3)[CH2:6][O:7][CH2:8]2)[cH:9][cH:11][c:13]([CH3:15])[c:12]([OH:14])[cH:10]1\n",
      "WARNING: Could not generate reaction for product with index 2689. Using dummy reaction.\n",
      "Error leading to this warning: Encountered RuntimeError while generating reaction for product 'Cn1ccc(C2COCC(C3CC[Si](C)(C)C3)N2)n1'.\n",
      "Original error message: More than one reaction found for SLAP reagent 'C[Si](C)(C)COCC(N)C1CC[Si](C)(C)C1' and aldehyde 'Cn1ccc(C=O)n1'.\n",
      "Reactions:\n",
      "C[Si]1(C)[CH2:8][CH2:7][CH:6]([CH:4]([CH2:3][O:14][CH2:15][Si:16]([CH3:17])([CH3:18])[CH3:19])[NH2:5])[CH2:20]1.O=[CH:2][c:1]1[cH:9][cH:11][n:12]([CH3:13])[n:10]1>>[c:1]1([CH:2]2[NH:5][CH:4]([CH2:3][O:14][CH2:15][Si:16]([CH3:17])([CH3:18])[CH3:19])[CH:6]([CH3:20])[CH2:7][CH2:8]2)[cH:9][cH:11][n:12]([CH3:13])[n:10]1\n",
      "C[Si](C)(C)[CH2:8][O:7][CH2:6][CH:4]([CH:3]1[CH2:14][CH2:16][Si:17]([CH3:18])([CH3:19])[CH2:15]1)[NH2:5].O=[CH:2][c:1]1[cH:9][cH:11][n:12]([CH3:13])[n:10]1>>[c:1]1([CH:2]2[NH:5][CH:4]([CH:3]3[CH2:14][CH2:16][Si:17]([CH3:18])([CH3:19])[CH2:15]3)[CH2:6][O:7][CH2:8]2)[cH:9][cH:11][n:12]([CH3:13])[n:10]1\n",
      "WARNING: Could not generate reaction for product with index 3385. Using dummy reaction.\n",
      "Error leading to this warning: Encountered RuntimeError while generating reaction for product 'CCOC(CSC)CC1COCC(C2CC[Si](C)(C)C2)N1'.\n",
      "Original error message: More than one reaction found for SLAP reagent 'C[Si](C)(C)COCC(N)C1CC[Si](C)(C)C1' and aldehyde 'CCOC(CC=O)CSC'.\n",
      "Reactions:\n",
      "C[Si]1(C)[CH2:8][CH2:7][CH:6]([CH:4]([CH2:3][O:16][CH2:17][Si:18]([CH3:19])([CH3:20])[CH3:21])[NH2:5])[CH2:22]1.O=[CH:2][CH2:1][CH:9]([O:10][CH2:12][CH3:14])[CH2:11][S:13][CH3:15]>>[CH2:1]([CH:2]1[NH:5][CH:4]([CH2:3][O:16][CH2:17][Si:18]([CH3:19])([CH3:20])[CH3:21])[CH:6]([CH3:22])[CH2:7][CH2:8]1)[CH:9]([O:10][CH2:12][CH3:14])[CH2:11][S:13][CH3:15]\n",
      "C[Si](C)(C)[CH2:8][O:7][CH2:6][CH:4]([CH:3]1[CH2:16][CH2:18][Si:19]([CH3:20])([CH3:21])[CH2:17]1)[NH2:5].O=[CH:2][CH2:1][CH:9]([O:10][CH2:12][CH3:14])[CH2:11][S:13][CH3:15]>>[CH2:1]([CH:2]1[NH:5][CH:4]([CH:3]2[CH2:16][CH2:18][Si:19]([CH3:20])([CH3:21])[CH2:17]2)[CH2:6][O:7][CH2:8]1)[CH:9]([O:10][CH2:12][CH3:14])[CH2:11][S:13][CH3:15]\n",
      "WARNING: Could not generate reaction for product with index 3671. Using dummy reaction.\n",
      "Error leading to this warning: Encountered RuntimeError while generating reaction for product 'CCCCc1c(F)cccc1C1COCC(C2CC[Si](C)(C)C2)N1'.\n",
      "Original error message: More than one reaction found for SLAP reagent 'C[Si](C)(C)COCC(N)C1CC[Si](C)(C)C1' and aldehyde 'CCCCc1c(F)cccc1C=O'.\n",
      "Reactions:\n",
      "C[Si]1(C)[CH2:8][CH2:7][CH:6]([CH:4]([CH2:3][O:19][CH2:20][Si:21]([CH3:22])([CH3:23])[CH3:24])[NH2:5])[CH2:25]1.O=[CH:2][c:1]1[cH:9][cH:11][cH:14][c:13]([F:16])[c:10]1[CH2:12][CH2:15][CH2:17][CH3:18]>>[c:1]1([CH:2]2[NH:5][CH:4]([CH2:3][O:19][CH2:20][Si:21]([CH3:22])([CH3:23])[CH3:24])[CH:6]([CH3:25])[CH2:7][CH2:8]2)[cH:9][cH:11][cH:14][c:13]([F:16])[c:10]1[CH2:12][CH2:15][CH2:17][CH3:18]\n",
      "C[Si](C)(C)[CH2:8][O:7][CH2:6][CH:4]([CH:3]1[CH2:19][CH2:21][Si:22]([CH3:23])([CH3:24])[CH2:20]1)[NH2:5].O=[CH:2][c:1]1[cH:9][cH:11][cH:14][c:13]([F:16])[c:10]1[CH2:12][CH2:15][CH2:17][CH3:18]>>[c:1]1([CH:2]2[NH:5][CH:4]([CH:3]3[CH2:19][CH2:21][Si:22]([CH3:23])([CH3:24])[CH2:20]3)[CH2:6][O:7][CH2:8]2)[cH:9][cH:11][cH:14][c:13]([F:16])[c:10]1[CH2:12][CH2:15][CH2:17][CH3:18]\n",
      "WARNING: Could not generate reaction for product with index 4540. Using dummy reaction.\n",
      "Error leading to this warning: Encountered RuntimeError while generating reaction for product 'CCOC(=O)N1CC(C2CC[Si](C)(C)C2)NC(C2CC23CCC(F)(F)CC3)C1'.\n",
      "Original error message: More than one reaction found for SLAP reagent 'CCOC(=O)N(CC(N)C1CC[Si](C)(C)C1)C[Si](C)(C)C' and aldehyde 'O=CC1CC12CCC(F)(F)CC2'.\n",
      "Reactions:\n",
      "C[Si]1(C)[CH2:8][CH2:7][CH:6]([CH:4]([CH2:3][N:18]([C:19]([O:21][CH2:24][CH3:28])=[O:22])[CH2:20][Si:23]([CH3:25])([CH3:26])[CH3:27])[NH2:5])[CH2:29]1.O=[CH:2][CH:1]1[CH2:9][C:10]12[CH2:11][CH2:13][C:15]([F:16])([F:17])[CH2:14][CH2:12]2>>[CH:1]1([CH:2]2[NH:5][CH:4]([CH2:3][N:18]([C:19]([O:21][CH2:24][CH3:28])=[O:22])[CH2:20][Si:23]([CH3:25])([CH3:26])[CH3:27])[CH:6]([CH3:29])[CH2:7][CH2:8]2)[CH2:9][C:10]12[CH2:11][CH2:13][C:15]([F:16])([F:17])[CH2:14][CH2:12]2\n",
      "C[Si](C)(C)[CH2:8][N:7]([CH2:6][CH:4]([CH:3]1[CH2:18][CH2:20][Si:21]([CH3:22])([CH3:23])[CH2:19]1)[NH2:5])[C:24]([O:25][CH2:27][CH3:28])=[O:26].O=[CH:2][CH:1]1[CH2:9][C:10]12[CH2:11][CH2:13][C:15]([F:16])([F:17])[CH2:14][CH2:12]2>>[CH:1]1([CH:2]2[NH:5][CH:4]([CH:3]3[CH2:18][CH2:20][Si:21]([CH3:22])([CH3:23])[CH2:19]3)[CH2:6][N:7]([C:24]([O:25][CH2:27][CH3:28])=[O:26])[CH2:8]2)[CH2:9][C:10]12[CH2:11][CH2:13][C:15]([F:16])([F:17])[CH2:14][CH2:12]2\n",
      "WARNING: Could not generate reaction for product with index 5475. Using dummy reaction.\n",
      "Error leading to this warning: Encountered RuntimeError while generating reaction for product 'CCOC(=O)N1CC(c2cccc3c(OC)cccc23)NC(C2CC[Si](C)(C)C2)C1'.\n",
      "Original error message: More than one reaction found for SLAP reagent 'CCOC(=O)N(CC(N)C1CC[Si](C)(C)C1)C[Si](C)(C)C' and aldehyde 'COc1cccc2c(C=O)cccc12'.\n",
      "Reactions:\n",
      "C[Si]1(C)[CH2:8][CH2:7][CH:6]([CH:4]([CH2:3][N:20]([C:21]([O:23][CH2:26][CH3:30])=[O:24])[CH2:22][Si:25]([CH3:27])([CH3:28])[CH3:29])[NH2:5])[CH2:31]1.O=[CH:2][c:1]1[cH:9][cH:11][cH:14][c:13]2[c:10]1[cH:12][cH:15][cH:17][c:16]2[O:18][CH3:19]>>[c:1]1([CH:2]2[NH:5][CH:4]([CH2:3][N:20]([C:21]([O:23][CH2:26][CH3:30])=[O:24])[CH2:22][Si:25]([CH3:27])([CH3:28])[CH3:29])[CH:6]([CH3:31])[CH2:7][CH2:8]2)[cH:9][cH:11][cH:14][c:13]2[c:10]1[cH:12][cH:15][cH:17][c:16]2[O:18][CH3:19]\n",
      "C[Si](C)(C)[CH2:8][N:7]([CH2:6][CH:4]([CH:3]1[CH2:20][CH2:22][Si:23]([CH3:24])([CH3:25])[CH2:21]1)[NH2:5])[C:26]([O:27][CH2:29][CH3:30])=[O:28].O=[CH:2][c:1]1[cH:9][cH:11][cH:14][c:13]2[c:10]1[cH:12][cH:15][cH:17][c:16]2[O:18][CH3:19]>>[c:1]1([CH:2]2[NH:5][CH:4]([CH:3]3[CH2:20][CH2:22][Si:23]([CH3:24])([CH3:25])[CH2:21]3)[CH2:6][N:7]([C:26]([O:27][CH2:29][CH3:30])=[O:28])[CH2:8]2)[cH:9][cH:11][cH:14][c:13]2[c:10]1[cH:12][cH:15][cH:17][c:16]2[O:18][CH3:19]\n",
      "WARNING: Could not generate reaction for product with index 6359. Using dummy reaction.\n",
      "Error leading to this warning: More than two possible reactions found.\n",
      "WARNING: Could not generate reaction for product with index 6547. Using dummy reaction.\n",
      "Error leading to this warning: Encountered RuntimeError while generating reaction for product 'Cc1cc(O)cc(O)c1C1COC(C)(C)C(C2CC[Si](C)(C)C2)N1'.\n",
      "Original error message: More than one reaction found for SLAP reagent 'CC(C)(OC[Si](C)(C)C)C(N)C1CC[Si](C)(C)C1' and aldehyde 'Cc1cc(O)cc(O)c1C=O'.\n",
      "Reactions:\n",
      "C[Si]1(C)[CH2:8][CH2:7][CH:6]([CH:4]([C:3]([CH3:17])([CH3:18])[O:19][CH2:20][Si:21]([CH3:22])([CH3:23])[CH3:24])[NH2:5])[CH2:25]1.O=[CH:2][c:1]1[c:9]([OH:12])[cH:11][c:15]([OH:16])[cH:14][c:10]1[CH3:13]>>[c:1]1([CH:2]2[NH:5][CH:4]([C:3]([CH3:17])([CH3:18])[O:19][CH2:20][Si:21]([CH3:22])([CH3:23])[CH3:24])[CH:6]([CH3:25])[CH2:7][CH2:8]2)[c:9]([OH:12])[cH:11][c:15]([OH:16])[cH:14][c:10]1[CH3:13]\n",
      "C[Si](C)(C)[CH2:8][O:7][C:6]([CH:4]([CH:3]1[CH2:17][CH2:19][Si:20]([CH3:21])([CH3:22])[CH2:18]1)[NH2:5])([CH3:23])[CH3:24].O=[CH:2][c:1]1[c:9]([OH:12])[cH:11][c:15]([OH:16])[cH:14][c:10]1[CH3:13]>>[c:1]1([CH:2]2[NH:5][CH:4]([CH:3]3[CH2:17][CH2:19][Si:20]([CH3:21])([CH3:22])[CH2:18]3)[C:6]([CH3:23])([CH3:24])[O:7][CH2:8]2)[c:9]([OH:12])[cH:11][c:15]([OH:16])[cH:14][c:10]1[CH3:13]\n"
     ]
    },
    {
     "name": "stdout",
     "output_type": "stream",
     "text": [
      "WARNING: Could not generate reaction for product with index 7373. Using dummy reaction.\n",
      "Error leading to this warning: Encountered RuntimeError while generating reaction for product 'CCN(C)c1ccc(C2COC(C)C(C3CC[Si](C)(C)C3)N2)cc1'.\n",
      "Original error message: More than one reaction found for SLAP reagent 'CC(OC[Si](C)(C)C)C(N)C1CC[Si](C)(C)C1' and aldehyde 'CCN(C)c1ccc(C=O)cc1'.\n",
      "Reactions:\n",
      "C[Si]1(C)[CH2:8][CH2:7][CH:6]([CH:4]([CH:3]([CH3:18])[O:19][CH2:20][Si:21]([CH3:22])([CH3:23])[CH3:24])[NH2:5])[CH2:25]1.O=[CH:2][c:1]1[cH:9][cH:11][c:13]([N:14]([CH2:15][CH3:17])[CH3:16])[cH:12][cH:10]1>>[c:1]1([CH:2]2[NH:5][CH:4]([CH:3]([CH3:18])[O:19][CH2:20][Si:21]([CH3:22])([CH3:23])[CH3:24])[CH:6]([CH3:25])[CH2:7][CH2:8]2)[cH:9][cH:11][c:13]([N:14]([CH2:15][CH3:17])[CH3:16])[cH:12][cH:10]1\n",
      "C[Si](C)(C)[CH2:8][O:7][CH:6]([CH:4]([CH:3]1[CH2:18][CH2:20][Si:21]([CH3:22])([CH3:23])[CH2:19]1)[NH2:5])[CH3:24].O=[CH:2][c:1]1[cH:9][cH:11][c:13]([N:14]([CH2:15][CH3:17])[CH3:16])[cH:12][cH:10]1>>[c:1]1([CH:2]2[NH:5][CH:4]([CH:3]3[CH2:18][CH2:20][Si:21]([CH3:22])([CH3:23])[CH2:19]3)[CH:6]([CH3:24])[O:7][CH2:8]2)[cH:9][cH:11][c:13]([N:14]([CH2:15][CH3:17])[CH3:16])[cH:12][cH:10]1\n",
      "WARNING: Could not generate reaction for product with index 8032. Using dummy reaction.\n",
      "Error leading to this warning: Encountered RuntimeError while generating reaction for product 'CC1(C)CC(C2COC(C)(C)C(C3CC[Si](C)(C)C3)N2)CC(C)(C)O1'.\n",
      "Original error message: More than one reaction found for SLAP reagent 'CC(C)(OC[Si](C)(C)C)C(N)C1CC[Si](C)(C)C1' and aldehyde 'CC1(C)CC(C=O)CC(C)(C)O1'.\n",
      "Reactions:\n",
      "C[Si]1(C)[CH2:8][CH2:7][CH:6]([CH:4]([C:3]([CH3:18])([CH3:19])[O:20][CH2:21][Si:22]([CH3:23])([CH3:24])[CH3:25])[NH2:5])[CH2:26]1.O=[CH:2][CH:1]1[CH2:9][C:11]([CH3:13])([CH3:14])[O:15][C:12]([CH3:16])([CH3:17])[CH2:10]1>>[CH:1]1([CH:2]2[NH:5][CH:4]([C:3]([CH3:18])([CH3:19])[O:20][CH2:21][Si:22]([CH3:23])([CH3:24])[CH3:25])[CH:6]([CH3:26])[CH2:7][CH2:8]2)[CH2:9][C:11]([CH3:13])([CH3:14])[O:15][C:12]([CH3:16])([CH3:17])[CH2:10]1\n",
      "C[Si](C)(C)[CH2:8][O:7][C:6]([CH:4]([CH:3]1[CH2:18][CH2:20][Si:21]([CH3:22])([CH3:23])[CH2:19]1)[NH2:5])([CH3:24])[CH3:25].O=[CH:2][CH:1]1[CH2:9][C:11]([CH3:13])([CH3:14])[O:15][C:12]([CH3:16])([CH3:17])[CH2:10]1>>[CH:1]1([CH:2]2[NH:5][CH:4]([CH:3]3[CH2:18][CH2:20][Si:21]([CH3:22])([CH3:23])[CH2:19]3)[C:6]([CH3:24])([CH3:25])[O:7][CH2:8]2)[CH2:9][C:11]([CH3:13])([CH3:14])[O:15][C:12]([CH3:16])([CH3:17])[CH2:10]1\n",
      "WARNING: Could not generate reaction for product with index 8043. Using dummy reaction.\n",
      "Error leading to this warning: Encountered RuntimeError while generating reaction for product 'CCOC(=O)N1CC(c2ccc(C(C)(C)C)c(O)c2)NC(C2CC[Si](C)(C)C2)C1'.\n",
      "Original error message: More than one reaction found for SLAP reagent 'CCOC(=O)N(CC(N)C1CC[Si](C)(C)C1)C[Si](C)(C)C' and aldehyde 'CC(C)(C)c1ccc(C=O)cc1O'.\n",
      "Reactions:\n",
      "C[Si]1(C)[CH2:8][CH2:7][CH:6]([CH:4]([CH2:3][N:19]([C:20]([O:22][CH2:25][CH3:29])=[O:23])[CH2:21][Si:24]([CH3:26])([CH3:27])[CH3:28])[NH2:5])[CH2:30]1.O=[CH:2][c:1]1[cH:9][cH:11][c:13]([C:15]([CH3:16])([CH3:17])[CH3:18])[c:12]([OH:14])[cH:10]1>>[c:1]1([CH:2]2[NH:5][CH:4]([CH2:3][N:19]([C:20]([O:22][CH2:25][CH3:29])=[O:23])[CH2:21][Si:24]([CH3:26])([CH3:27])[CH3:28])[CH:6]([CH3:30])[CH2:7][CH2:8]2)[cH:9][cH:11][c:13]([C:15]([CH3:16])([CH3:17])[CH3:18])[c:12]([OH:14])[cH:10]1\n",
      "C[Si](C)(C)[CH2:8][N:7]([CH2:6][CH:4]([CH:3]1[CH2:19][CH2:21][Si:22]([CH3:23])([CH3:24])[CH2:20]1)[NH2:5])[C:25]([O:26][CH2:28][CH3:29])=[O:27].O=[CH:2][c:1]1[cH:9][cH:11][c:13]([C:15]([CH3:16])([CH3:17])[CH3:18])[c:12]([OH:14])[cH:10]1>>[c:1]1([CH:2]2[NH:5][CH:4]([CH:3]3[CH2:19][CH2:21][Si:22]([CH3:23])([CH3:24])[CH2:20]3)[CH2:6][N:7]([C:25]([O:26][CH2:28][CH3:29])=[O:27])[CH2:8]2)[cH:9][cH:11][c:13]([C:15]([CH3:16])([CH3:17])[CH3:18])[c:12]([OH:14])[cH:10]1\n",
      "INFO: 8772 SMILES were read. For 11 SMILES, no valid SLAP reaction could be generated.\n"
     ]
    }
   ],
   "source": [
    "# Import product SMILES and generate reactionSMILES. This will take some time.\n",
    "# This will throw warnings if any reactions cannot be generated, \n",
    "# e.g. if there are two morpholines in the same product.\n",
    "raw_dir = pathlib.Path(\"../data/VL/\")\n",
    "filename_base = \"VL_smiles_chunk_00794\"\n",
    "df = import_valid_smiles_from_vl(raw_dir, filename_base)\n",
    "data = SLAPProductDataset(smiles=df[\"smiles\"].values.tolist())"
   ]
  },
  {
   "cell_type": "code",
   "execution_count": 5,
   "id": "069d3043",
   "metadata": {},
   "outputs": [],
   "source": [
    "# Process data. This includes generating reaction graphs and takes some time.\n",
    "\n",
    "data.process({\"dataset_0D\": dict(\n",
    "    reaction=True, \n",
    "    global_features=[\"OHE\",],\n",
    "    global_featurizer_state_dict_path=ohe_state_dict,\n",
    "    graph_type=\"bond_edges\", \n",
    "    featurizers=\"custom\",\n",
    "),\n",
    "             \"dataset_1D_slap\": dict(\n",
    "    reaction=True, \n",
    "    global_features=None, \n",
    "    graph_type=\"bond_nodes\", \n",
    "    featurizers=\"custom\",\n",
    "),\n",
    "              \"dataset_1D_aldehyde\": dict(\n",
    "    reaction=True, \n",
    "    global_features=None, \n",
    "    graph_type=\"bond_nodes\", \n",
    "    featurizers=\"custom\",\n",
    "),\n",
    "              \"dataset_2D\": dict(\n",
    "    reaction=True, \n",
    "    global_features=None, \n",
    "    graph_type=\"bond_nodes\", \n",
    "    featurizers=\"custom\",\n",
    "),\n",
    "            })"
   ]
  },
  {
   "cell_type": "code",
   "execution_count": 6,
   "id": "0dbf0d20",
   "metadata": {},
   "outputs": [
    {
     "name": "stderr",
     "output_type": "stream",
     "text": [
      "/home/julian/miniconda3/envs/slap-gnn/lib/python3.7/site-packages/torchmetrics/utilities/prints.py:36: UserWarning: Metric `AUROC` will save all targets and predictions in buffer. For large datasets this may lead to large memory footprint.\n",
      "  warnings.warn(*args, **kwargs)\n",
      "GPU available: True, used: True\n",
      "TPU available: False, using: 0 TPU cores\n",
      "IPU available: False, using: 0 IPUs\n",
      "HPU available: False, using: 0 HPUs\n",
      "LOCAL_RANK: 0 - CUDA_VISIBLE_DEVICES: [0]\n",
      "/home/julian/miniconda3/envs/slap-gnn/lib/python3.7/site-packages/pytorch_lightning/trainer/connectors/data_connector.py:245: PossibleUserWarning: The dataloader, predict_dataloader 0, does not have many workers which may be a bottleneck. Consider increasing the value of the `num_workers` argument` (try 40 which is the number of cpus on this machine) in the `DataLoader` init to improve performance.\n",
      "  category=PossibleUserWarning,\n"
     ]
    },
    {
     "data": {
      "application/json": {
       "ascii": false,
       "bar_format": null,
       "colour": null,
       "elapsed": 0.011699914932250977,
       "initial": 0,
       "n": 0,
       "ncols": 100,
       "nrows": 32,
       "postfix": null,
       "prefix": "Predicting",
       "rate": null,
       "total": null,
       "unit": "it",
       "unit_divisor": 1000,
       "unit_scale": false
      },
      "application/vnd.jupyter.widget-view+json": {
       "model_id": "b6e74787692740e690f12eca3054071c",
       "version_major": 2,
       "version_minor": 0
      },
      "text/plain": [
       "Predicting: 0it [00:00, ?it/s]"
      ]
     },
     "metadata": {},
     "output_type": "display_data"
    },
    {
     "name": "stderr",
     "output_type": "stream",
     "text": [
      "/home/julian/PycharmProjects/slap-gnn/src/data/dataloader.py:41: UserWarning: Creating a tensor from a list of numpy.ndarrays is extremely slow. Please consider converting the list to a single numpy.ndarray with numpy.array() before converting to a tensor. (Triggered internally at  /opt/conda/conda-bld/pytorch_1656352464346/work/torch/csrc/utils/tensor_new.cpp:201.)\n",
      "  batched_global_features = torch.tensor(global_features, dtype=torch.float32)\n",
      "GPU available: True, used: True\n",
      "TPU available: False, using: 0 TPU cores\n",
      "IPU available: False, using: 0 IPUs\n",
      "HPU available: False, using: 0 HPUs\n",
      "LOCAL_RANK: 0 - CUDA_VISIBLE_DEVICES: [0]\n"
     ]
    },
    {
     "data": {
      "application/json": {
       "ascii": false,
       "bar_format": null,
       "colour": null,
       "elapsed": 0.010111808776855469,
       "initial": 0,
       "n": 0,
       "ncols": 100,
       "nrows": 32,
       "postfix": null,
       "prefix": "Predicting",
       "rate": null,
       "total": null,
       "unit": "it",
       "unit_divisor": 1000,
       "unit_scale": false
      },
      "application/vnd.jupyter.widget-view+json": {
       "model_id": "74ff2e61c4714e6a806c6f2e667e2b9f",
       "version_major": 2,
       "version_minor": 0
      },
      "text/plain": [
       "Predicting: 0it [00:00, ?it/s]"
      ]
     },
     "metadata": {},
     "output_type": "display_data"
    },
    {
     "name": "stderr",
     "output_type": "stream",
     "text": [
      "GPU available: True, used: True\n",
      "TPU available: False, using: 0 TPU cores\n",
      "IPU available: False, using: 0 IPUs\n",
      "HPU available: False, using: 0 HPUs\n",
      "LOCAL_RANK: 0 - CUDA_VISIBLE_DEVICES: [0]\n"
     ]
    },
    {
     "data": {
      "application/json": {
       "ascii": false,
       "bar_format": null,
       "colour": null,
       "elapsed": 0.011458396911621094,
       "initial": 0,
       "n": 0,
       "ncols": 100,
       "nrows": 32,
       "postfix": null,
       "prefix": "Predicting",
       "rate": null,
       "total": null,
       "unit": "it",
       "unit_divisor": 1000,
       "unit_scale": false
      },
      "application/vnd.jupyter.widget-view+json": {
       "model_id": "8d2caef50eea4ca8a6a7b7e6b19ebbd8",
       "version_major": 2,
       "version_minor": 0
      },
      "text/plain": [
       "Predicting: 0it [00:00, ?it/s]"
      ]
     },
     "metadata": {},
     "output_type": "display_data"
    },
    {
     "name": "stderr",
     "output_type": "stream",
     "text": [
      "GPU available: True, used: True\n",
      "TPU available: False, using: 0 TPU cores\n",
      "IPU available: False, using: 0 IPUs\n",
      "HPU available: False, using: 0 HPUs\n",
      "LOCAL_RANK: 0 - CUDA_VISIBLE_DEVICES: [0]\n"
     ]
    },
    {
     "data": {
      "application/json": {
       "ascii": false,
       "bar_format": null,
       "colour": null,
       "elapsed": 0.009175777435302734,
       "initial": 0,
       "n": 0,
       "ncols": 100,
       "nrows": 32,
       "postfix": null,
       "prefix": "Predicting",
       "rate": null,
       "total": null,
       "unit": "it",
       "unit_divisor": 1000,
       "unit_scale": false
      },
      "application/vnd.jupyter.widget-view+json": {
       "model_id": "71975359970d429e9c36371aaa4ef095",
       "version_major": 2,
       "version_minor": 0
      },
      "text/plain": [
       "Predicting: 0it [00:00, ?it/s]"
      ]
     },
     "metadata": {},
     "output_type": "display_data"
    }
   ],
   "source": [
    "# run all the predictions\n",
    "\n",
    "if data.dataset_0D:\n",
    "    # load the trained model if it is not loaded\n",
    "    if isinstance(model_0D, str):\n",
    "        model_0D = load_trained_model(\"FFN\", model_0D)\n",
    "        model_0D.eval()\n",
    "    trainer = pl.Trainer(accelerator=\"gpu\", logger=False, max_epochs=-1)\n",
    "    dl = DataLoader(data.dataset_0D, collate_fn=collate_fn)\n",
    "    probabilities_0D = torch.concat(trainer.predict(model_0D, dl))\n",
    "\n",
    "if data.dataset_1D_aldehyde:\n",
    "    # load the trained model if it is not loaded\n",
    "    if isinstance(model_1D, str):\n",
    "        model_1D = load_trained_model(\"D-MPNN\", model_1D)\n",
    "        model_1D.eval()\n",
    "    trainer = pl.Trainer(accelerator=\"gpu\", logger=False, max_epochs=-1)\n",
    "    dl = DataLoader(data.dataset_1D_aldehyde, collate_fn=collate_fn)\n",
    "    probabilities_1D_aldehyde = torch.concat(trainer.predict(model_1D, dl))\n",
    "\n",
    "if data.dataset_1D_slap:\n",
    "    # load the trained model if it is not loaded\n",
    "    if isinstance(model_1D, str):\n",
    "        model_1D = load_trained_model(\"D-MPNN\", model_1D)\n",
    "        model_1D.eval()\n",
    "    trainer = pl.Trainer(accelerator=\"gpu\", logger=False, max_epochs=-1)\n",
    "    dl = DataLoader(data.dataset_1D_slap, collate_fn=collate_fn)\n",
    "    probabilities_1D_slap = torch.concat(trainer.predict(model_1D, dl))\n",
    "\n",
    "if data.dataset_2D:\n",
    "    # load the trained model if it is not loaded\n",
    "    if isinstance(model_2D, str):\n",
    "        model_2D = load_trained_model(\"D-MPNN\", model_2D)\n",
    "        model_2D.eval()\n",
    "    trainer = pl.Trainer(accelerator=\"gpu\", logger=False, max_epochs=-1)\n",
    "    dl = DataLoader(data.dataset_2D, collate_fn=collate_fn)\n",
    "    probabilities_2D = torch.concat(trainer.predict(model_2D, dl))\n"
   ]
  },
  {
   "cell_type": "code",
   "execution_count": 7,
   "id": "89faead5",
   "metadata": {},
   "outputs": [],
   "source": [
    "# obtain class labels\n",
    "predictions_0D = (probabilities_0D > .5).numpy().astype(float)\n",
    "predictions_1D_slap = (probabilities_1D_slap > .5).numpy().astype(float)\n",
    "predictions_1D_aldehyde = (probabilities_1D_aldehyde > .5).numpy().astype(float)\n",
    "predictions_2D = (probabilities_2D > .5).numpy().astype(float)\n",
    "\n",
    "# assemble outputs\n",
    "predictions = np.full(len(data.reactions), np.nan, dtype=float)\n",
    "\n",
    "predictions[data.idx_known] = [statistics.mean(data.known_outcomes[i]) for i in data.idx_known]  # for known reaction we add the average reaction outcome\n",
    "predictions[data.idx_0D] = predictions_0D\n",
    "predictions[data.idx_1D_slap] = predictions_1D_slap\n",
    "predictions[data.idx_1D_aldehyde] = predictions_1D_aldehyde\n",
    "predictions[data.idx_2D] = predictions_2D\n"
   ]
  },
  {
   "cell_type": "code",
   "execution_count": 9,
   "id": "13c63465",
   "metadata": {},
   "outputs": [],
   "source": [
    "# check if we have not predicted for anything\n",
    "# this should be only the reactions in data.invalid_idxs\n",
    "rxn_idxs_no_pred = np.argwhere(np.isnan(predictions)).flatten()\n",
    "\n",
    "rxn_idxs_invalid = [data.product_idxs.index(i) for i in data.invalid_idxs]\n",
    "\n",
    "assert set(rxn_idxs_no_pred) == set(rxn_idxs_invalid)"
   ]
  },
  {
   "cell_type": "code",
   "execution_count": 10,
   "id": "33ea6070",
   "metadata": {},
   "outputs": [],
   "source": [
    "# convert the 1D- product_idxs to the directionally reverse 2D indices\n",
    "arr = np.full((len(data.smiles), 2), fill_value=-1)\n",
    "last_idx = -1\n",
    "for i, idx in enumerate(data.product_idxs):\n",
    "    if idx == last_idx:\n",
    "        arr[idx, 1] = i\n",
    "    else:\n",
    "        last_idx = idx\n",
    "        arr[idx, 0] = i\n",
    "     "
   ]
  },
  {
   "cell_type": "code",
   "execution_count": 11,
   "id": "d67ad65b",
   "metadata": {},
   "outputs": [],
   "source": [
    "confidence_dict = {\n",
    "    \"known\": 0,\n",
    "    \"0D\": 1,\n",
    "    \"1D_SLAP\": 2,\n",
    "    \"1D_aldehyde\": 2,\n",
    "    \"2D_similar\": 3,\n",
    "    \"2D_dissimilar\": 4,\n",
    "}"
   ]
  },
  {
   "cell_type": "code",
   "execution_count": 12,
   "id": "c4bd3b75",
   "metadata": {},
   "outputs": [],
   "source": [
    "# translate problem type to integer\n",
    "rxn_problem_types = list(map(confidence_dict.get, data.problem_type))"
   ]
  },
  {
   "cell_type": "code",
   "execution_count": 13,
   "id": "7fbeea65",
   "metadata": {},
   "outputs": [],
   "source": [
    "# we add a nonsense value to the end of each of these lists so that indexing with -1 will return the nonsense value\n",
    "reactions_augmented = data.reactions + [\"\"]\n",
    "predictions_augmented = list(predictions) + [np.nan]\n",
    "rxn_problem_types_augmented = rxn_problem_types + [99]\n"
   ]
  },
  {
   "cell_type": "code",
   "execution_count": 14,
   "id": "9c3c78e8",
   "metadata": {},
   "outputs": [],
   "source": [
    "# obtain individual new columns for output df\n",
    "df[\"rxn1_smiles\"] = [data.reactions[i] for i in arr[:,0]]\n",
    "\n",
    "df[\"rxn1_predictions\"] = [predictions[i] for i in arr[:,0]]\n",
    "\n",
    "df[\"rxn1_confidence\"] = [rxn_problem_types[i] for i in arr[:,0]]\n",
    "\n",
    "df[\"rxn2_smiles\"] = [reactions_augmented[i] for i in arr[:,1]]\n",
    "\n",
    "df[\"rxn2_predictions\"] = [predictions_augmented[i] for i in arr[:,1]]\n",
    "\n",
    "df[\"rxn2_confidence\"] = [rxn_problem_types_augmented[i] for i in arr[:,1]]"
   ]
  },
  {
   "cell_type": "code",
   "execution_count": 8,
   "id": "59bff6a3",
   "metadata": {},
   "outputs": [
    {
     "name": "stdout",
     "output_type": "stream",
     "text": [
      "13723 reactions generated from 8772 input SMILES\n",
      "Known reactions: 0\n",
      "0D reactions: 2, thereof 2 predicted positive\n",
      "1D reactions with unknown aldehyde: 51, thereof 24 predicted positive\n",
      "1D reactions with unknown SLAP reagent: 290, thereof 130 predicted positive\n",
      "2D reactions: 13369, thereof 4750 predicted positive\n",
      "\n"
     ]
    }
   ],
   "source": [
    "# write dataset statistics for control to log file (+ optionally print)\n",
    "verbose = True\n",
    "log_output = f\"\"\"\\\n",
    "{len(data.reactions)} reactions generated from {len(data.smiles)} input SMILES\n",
    "Known reactions: {(sum(x is not None for x in data.known_outcomes))}\n",
    "0D reactions: {len(data.dataset_0D)}, thereof {np.count_nonzero(predictions_0D)} predicted positive\n",
    "1D reactions with unknown aldehyde: {len(data.dataset_1D_aldehyde)}, thereof {np.count_nonzero(predictions_1D_aldehyde)} predicted positive\n",
    "1D reactions with unknown SLAP reagent: {len(data.dataset_1D_slap)}, thereof {np.count_nonzero(predictions_1D_slap)} predicted positive\n",
    "2D reactions: {len(data.dataset_2D)}, thereof {np.count_nonzero(predictions_2D)} predicted positive\n",
    "\"\"\"\n",
    "\n",
    "with open(raw_dir / f\"{filename_base}_reaction_prediction.log\", \"w\") as file:\n",
    "    file.write(log_output)\n",
    "if verbose:\n",
    "    print(log_output)"
   ]
  },
  {
   "cell_type": "code",
   "execution_count": 15,
   "id": "ec60f281",
   "metadata": {},
   "outputs": [],
   "source": [
    "# write df to output file\n",
    "df.to_csv(raw_dir / f\"{filename_base}_reaction_prediction.csv\", index=False)"
   ]
  }
 ],
 "metadata": {
  "kernelspec": {
   "display_name": "Python 3 (ipykernel)",
   "language": "python",
   "name": "python3"
  },
  "language_info": {
   "codemirror_mode": {
    "name": "ipython",
    "version": 3
   },
   "file_extension": ".py",
   "mimetype": "text/x-python",
   "name": "python",
   "nbconvert_exporter": "python",
   "pygments_lexer": "ipython3",
   "version": "3.7.13"
  }
 },
 "nbformat": 4,
 "nbformat_minor": 5
}
