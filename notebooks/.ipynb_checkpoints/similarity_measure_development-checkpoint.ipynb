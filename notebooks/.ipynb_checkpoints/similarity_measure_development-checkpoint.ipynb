{
 "cells": [
  {
   "cell_type": "markdown",
   "id": "62c4535b",
   "metadata": {},
   "source": [
    "# Inference using the SLAP models "
   ]
  },
  {
   "cell_type": "markdown",
   "id": "65d90127",
   "metadata": {},
   "source": [
    "Predict reaction outcome for morpholine/piperazine products.\n",
    "\n",
    "For most requirements, using the command-line interface (`inference.py`) will be faster/simpler than using this notebook. But if you want to change things or have a look under the hood, feel free to use this notebook.\n",
    "\n",
    "The input to this are SMILES of the desired product(s).\n",
    "Inputs can be supplied directly as a csv file with one column named \"smiles\" and arbitrary additional columns.\n",
    "\n",
    "The output is:\n",
    "- all (one or two) reactionSMILES that lead to this product using the SLAP platform\n",
    "- for each reaction, a classification of whether the reaction is expected to work\n",
    "- for each reaction, a rough estimate of the confidence for this prediction\n",
    "\n",
    "The output is written to a new csv file containing all columns from the input file, and six new columns: `rxn1_smiles`, `rxn1_prediction`, `rxn1_confidence`, `rxn2_smiles`, `rxn2_prediction`, `rxn2_confidence`.\n",
    "\n",
    "Columns `rxn2_*` may have empty fields.\n",
    "\n",
    "Predictions are given as `0` (meaning no reaction expected) or `1` (meaning successful reaction expected). Only if the reaction is known, instead of the prediction, the mean of the known reaction outcome(s) is returned.\n",
    "Confidence is given as an integer in the range `0-4`, with `0` indicating the highest confidence.\n",
    "Confidence is determined based on the complexity of the prediction problem using the following heuristic:\n",
    "- `0`: known reactions\n",
    "- `1`: both reactants known in other reactions\n",
    "- `2`: exactly one reactant known in other reactions\n",
    "- `3`: unknown reactants, similar to training data\n",
    "- `4`: unknown reactants, dissimilar to training data\n"
   ]
  },
  {
   "cell_type": "code",
   "execution_count": 1,
   "id": "d83b22f9",
   "metadata": {},
   "outputs": [
    {
     "name": "stderr",
     "output_type": "stream",
     "text": [
      "WARNING:root:No normalization for BCUT2D_MWHI\n",
      "WARNING:root:No normalization for BCUT2D_MWLOW\n",
      "WARNING:root:No normalization for BCUT2D_CHGHI\n",
      "WARNING:root:No normalization for BCUT2D_CHGLO\n",
      "WARNING:root:No normalization for BCUT2D_LOGPHI\n",
      "WARNING:root:No normalization for BCUT2D_LOGPLOW\n",
      "WARNING:root:No normalization for BCUT2D_MRHI\n",
      "WARNING:root:No normalization for BCUT2D_MRLOW\n"
     ]
    }
   ],
   "source": [
    "import pathlib\n",
    "import statistics\n",
    "import sys\n",
    "sys.path.append(str(pathlib.Path(\"__file__\").absolute().parents[1]))\n",
    "import warnings\n",
    "\n",
    "import numpy as np\n",
    "import pandas as pd\n",
    "import pytorch_lightning as pl\n",
    "import torch\n",
    "from torch.utils.data import DataLoader\n",
    "\n",
    "from src.model.classifier import load_trained_model\n",
    "from inference import import_valid_smiles_from_vl\n",
    "with warnings.catch_warnings(record=True):  \n",
    "    # ignore the descriptastorus package warning about missing normalizations\n",
    "    from src.data.dataloader import SLAPProductDataset, collate_fn"
   ]
  },
  {
   "cell_type": "code",
   "execution_count": 2,
   "id": "d79eb05a",
   "metadata": {},
   "outputs": [],
   "source": [
    "# paths to the best models\n",
    "model_0D = \"../production_models/2022-12-16-144509_863758/best.ckpt\"  # FFN\n",
    "model_1D = \"../production_models/2022-12-16-145840_448790/best.ckpt\"  # D-MPNN\n",
    "model_2D = \"../production_models/2022-12-06-115456_273019/best.ckpt\"  # D-MPNN\n",
    "# path to the OneHotEncoder state for model_0D\n",
    "ohe_state_dict = \"../logs/OHE_state_dict_FqIDTIsCHoURGQcv.json\""
   ]
  },
  {
   "cell_type": "markdown",
   "id": "c3e1a3e0",
   "metadata": {},
   "source": [
    "To use the notebook on your products, change `raw_dir` to the directory that your CSV file containing SMILES is in. Then change `filename_base` to the filename of your csv file without the `.csv` suffix. If you do not want to use all the SMILES in your file (e.g. because some are not valid SLAP products), suppy a `valid_idx_file`. You can set the value to `None` if you want to use all SMILES."
   ]
  },
  {
   "cell_type": "code",
   "execution_count": 3,
   "id": "e1ac6857",
   "metadata": {},
   "outputs": [
    {
     "name": "stdout",
     "output_type": "stream",
     "text": [
      "WARNING: Could not generate reaction for product with index 2696. Using dummy reaction.\n",
      "Error leading to this warning: More than two possible reactions found.\n",
      "WARNING: Could not generate reaction for product with index 3457. Using dummy reaction.\n",
      "Error leading to this warning: Encountered RuntimeError while generating reaction for product 'CC(CC1COCC(C2=NO[C@@H]3CCCC[C@H]23)N1)C[Si](C)(C)C'.\n",
      "Original error message: More than one reaction found for SLAP reagent 'CC(CC(N)COC[Si](C)(C)C)C[Si](C)(C)C' and aldehyde 'O=CC1=NO[C@@H]2CCCC[C@H]12'.\n",
      "Reactions:\n",
      "C[Si](C)(C)[CH2:8][CH:7]([CH2:6][CH:4]([CH2:3][O:17][CH2:18][Si:19]([CH3:20])([CH3:21])[CH3:22])[NH2:5])[CH3:23].O=[CH:2][C:1]1=[N:9][O:11][C@H:13]2[C@@H:10]1[CH2:12][CH2:14][CH2:16][CH2:15]2>>[C:1]1([CH:2]2[NH:5][CH:4]([CH2:3][O:17][CH2:18][Si:19]([CH3:20])([CH3:21])[CH3:22])[CH2:6][CH:7]([CH3:23])[CH2:8]2)=[N:9][O:11][C@H:13]2[C@@H:10]1[CH2:12][CH2:14][CH2:16][CH2:15]2\n",
      "C[Si](C)(C)[CH2:8][O:7][CH2:6][CH:4]([CH2:3][CH:17]([CH3:18])[CH2:19][Si:20]([CH3:21])([CH3:22])[CH3:23])[NH2:5].O=[CH:2][C:1]1=[N:9][O:11][C@H:13]2[C@@H:10]1[CH2:12][CH2:14][CH2:16][CH2:15]2>>[C:1]1([CH:2]2[NH:5][CH:4]([CH2:3][CH:17]([CH3:18])[CH2:19][Si:20]([CH3:21])([CH3:22])[CH3:23])[CH2:6][O:7][CH2:8]2)=[N:9][O:11][C@H:13]2[C@@H:10]1[CH2:12][CH2:14][CH2:16][CH2:15]2\n",
      "WARNING: Could not generate reaction for product with index 3911. Using dummy reaction.\n",
      "Error leading to this warning: More than two possible reactions found.\n",
      "WARNING: Could not generate reaction for product with index 4542. Using dummy reaction.\n",
      "Error leading to this warning: More than two possible reactions found.\n",
      "WARNING: Could not generate reaction for product with index 5365. Using dummy reaction.\n",
      "Error leading to this warning: More than two possible reactions found.\n",
      "WARNING: Could not generate reaction for product with index 6368. Using dummy reaction.\n",
      "Error leading to this warning: Encountered RuntimeError while generating reaction for product 'CC1OCC(c2cc(S(N)(=O)=O)cs2)NC1C1CC[Si](C)(C)C1'.\n",
      "Original error message: More than one reaction found for SLAP reagent 'CC(OC[Si](C)(C)C)C(N)C1CC[Si](C)(C)C1' and aldehyde 'NS(=O)(=O)c1csc(C=O)c1'.\n",
      "Reactions:\n",
      "C[Si]1(C)[CH2:8][CH2:7][CH:6]([CH:4]([CH:3]([CH3:17])[O:18][CH2:19][Si:20]([CH3:21])([CH3:22])[CH3:23])[NH2:5])[CH2:24]1.O=[CH:2][c:1]1[cH:9][c:11]([S:13]([NH2:14])(=[O:15])=[O:16])[cH:12][s:10]1>>[c:1]1([CH:2]2[NH:5][CH:4]([CH:3]([CH3:17])[O:18][CH2:19][Si:20]([CH3:21])([CH3:22])[CH3:23])[CH:6]([CH3:24])[CH2:7][CH2:8]2)[cH:9][c:11]([S:13]([NH2:14])(=[O:15])=[O:16])[cH:12][s:10]1\n",
      "C[Si](C)(C)[CH2:8][O:7][CH:6]([CH:4]([CH:3]1[CH2:17][CH2:19][Si:20]([CH3:21])([CH3:22])[CH2:18]1)[NH2:5])[CH3:23].O=[CH:2][c:1]1[cH:9][c:11]([S:13]([NH2:14])(=[O:15])=[O:16])[cH:12][s:10]1>>[c:1]1([CH:2]2[NH:5][CH:4]([CH:3]3[CH2:17][CH2:19][Si:20]([CH3:21])([CH3:22])[CH2:18]3)[CH:6]([CH3:23])[O:7][CH2:8]2)[cH:9][c:11]([S:13]([NH2:14])(=[O:15])=[O:16])[cH:12][s:10]1\n",
      "WARNING: Could not generate reaction for product with index 7596. Using dummy reaction.\n",
      "Error leading to this warning: Encountered RuntimeError while generating reaction for product 'CC1OCC(c2c(O)ccc(Cl)c2Cl)NC1C1CC[Si](C)(C)C1'.\n",
      "Original error message: More than one reaction found for SLAP reagent 'CC(OC[Si](C)(C)C)C(N)C1CC[Si](C)(C)C1' and aldehyde 'O=Cc1c(O)ccc(Cl)c1Cl'.\n",
      "Reactions:\n",
      "C[Si]1(C)[CH2:8][CH2:7][CH:6]([CH:4]([CH:3]([CH3:17])[O:18][CH2:19][Si:20]([CH3:21])([CH3:22])[CH3:23])[NH2:5])[CH2:24]1.O=[CH:2][c:1]1[c:9]([OH:11])[cH:12][cH:15][c:13]([Cl:16])[c:10]1[Cl:14]>>[c:1]1([CH:2]2[NH:5][CH:4]([CH:3]([CH3:17])[O:18][CH2:19][Si:20]([CH3:21])([CH3:22])[CH3:23])[CH:6]([CH3:24])[CH2:7][CH2:8]2)[c:9]([OH:11])[cH:12][cH:15][c:13]([Cl:16])[c:10]1[Cl:14]\n",
      "C[Si](C)(C)[CH2:8][O:7][CH:6]([CH:4]([CH:3]1[CH2:17][CH2:19][Si:20]([CH3:21])([CH3:22])[CH2:18]1)[NH2:5])[CH3:23].O=[CH:2][c:1]1[c:9]([OH:11])[cH:12][cH:15][c:13]([Cl:16])[c:10]1[Cl:14]>>[c:1]1([CH:2]2[NH:5][CH:4]([CH:3]3[CH2:17][CH2:19][Si:20]([CH3:21])([CH3:22])[CH2:18]3)[CH:6]([CH3:23])[O:7][CH2:8]2)[c:9]([OH:11])[cH:12][cH:15][c:13]([Cl:16])[c:10]1[Cl:14]\n",
      "WARNING: Could not generate reaction for product with index 7690. Using dummy reaction.\n",
      "Error leading to this warning: Encountered RuntimeError while generating reaction for product 'CCOC(=O)N1CC(CC2CCOC2)NC(C2CC[Si](C)(C)C2)C1'.\n",
      "Original error message: More than one reaction found for SLAP reagent 'CCOC(=O)N(CC(N)C1CC[Si](C)(C)C1)C[Si](C)(C)C' and aldehyde 'O=CCC1CCOC1'.\n",
      "Reactions:\n",
      "C[Si]1(C)[CH2:8][CH2:7][CH:6]([CH:4]([CH2:3][N:14]([C:15]([O:17][CH2:20][CH3:24])=[O:18])[CH2:16][Si:19]([CH3:21])([CH3:22])[CH3:23])[NH2:5])[CH2:25]1.O=[CH:2][CH2:1][CH:9]1[CH2:10][CH2:12][O:13][CH2:11]1>>[CH2:1]([CH:2]1[NH:5][CH:4]([CH2:3][N:14]([C:15]([O:17][CH2:20][CH3:24])=[O:18])[CH2:16][Si:19]([CH3:21])([CH3:22])[CH3:23])[CH:6]([CH3:25])[CH2:7][CH2:8]1)[CH:9]1[CH2:10][CH2:12][O:13][CH2:11]1\n",
      "C[Si](C)(C)[CH2:8][N:7]([CH2:6][CH:4]([CH:3]1[CH2:14][CH2:16][Si:17]([CH3:18])([CH3:19])[CH2:15]1)[NH2:5])[C:20]([O:21][CH2:23][CH3:24])=[O:22].O=[CH:2][CH2:1][CH:9]1[CH2:10][CH2:12][O:13][CH2:11]1>>[CH2:1]([CH:2]1[NH:5][CH:4]([CH:3]2[CH2:14][CH2:16][Si:17]([CH3:18])([CH3:19])[CH2:15]2)[CH2:6][N:7]([C:20]([O:21][CH2:23][CH3:24])=[O:22])[CH2:8]1)[CH:9]1[CH2:10][CH2:12][O:13][CH2:11]1\n",
      "WARNING: Could not generate reaction for product with index 8156. Using dummy reaction.\n",
      "Error leading to this warning: More than two possible reactions found.\n",
      "WARNING: Could not generate reaction for product with index 8729. Using dummy reaction.\n",
      "Error leading to this warning: Encountered RuntimeError while generating reaction for product 'C#CCOc1ccccc1C1COCC(CC(C)C[Si](C)(C)C)N1'.\n",
      "Original error message: More than one reaction found for SLAP reagent 'CC(CC(N)COC[Si](C)(C)C)C[Si](C)(C)C' and aldehyde 'C#CCOc1ccccc1C=O'.\n",
      "Reactions:\n",
      "C[Si](C)(C)[CH2:8][CH:7]([CH2:6][CH:4]([CH2:3][O:18][CH2:19][Si:20]([CH3:21])([CH3:22])[CH3:23])[NH2:5])[CH3:24].O=[CH:2][c:1]1[cH:9][cH:11][cH:14][cH:13][c:10]1[O:12][CH2:15][C:16]#[CH:17]>>[c:1]1([CH:2]2[NH:5][CH:4]([CH2:3][O:18][CH2:19][Si:20]([CH3:21])([CH3:22])[CH3:23])[CH2:6][CH:7]([CH3:24])[CH2:8]2)[cH:9][cH:11][cH:14][cH:13][c:10]1[O:12][CH2:15][C:16]#[CH:17]\n",
      "C[Si](C)(C)[CH2:8][O:7][CH2:6][CH:4]([CH2:3][CH:18]([CH3:19])[CH2:20][Si:21]([CH3:22])([CH3:23])[CH3:24])[NH2:5].O=[CH:2][c:1]1[cH:9][cH:11][cH:14][cH:13][c:10]1[O:12][CH2:15][C:16]#[CH:17]>>[c:1]1([CH:2]2[NH:5][CH:4]([CH2:3][CH:18]([CH3:19])[CH2:20][Si:21]([CH3:22])([CH3:23])[CH3:24])[CH2:6][O:7][CH2:8]2)[cH:9][cH:11][cH:14][cH:13][c:10]1[O:12][CH2:15][C:16]#[CH:17]\n",
      "INFO: 8733 SMILES were read. For 10 SMILES, no valid SLAP reaction could be generated.\n"
     ]
    }
   ],
   "source": [
    "# Import product SMILES and generate reactionSMILES. This will take some time.\n",
    "# This will throw warnings if any reactions cannot be generated, \n",
    "# e.g. if there are two morpholines in the same product.\n",
    "raw_dir = pathlib.Path(\"../data/VL\")  # <-- change me\n",
    "filename_base = \"VL_smiles_chunk_00961\"  # <-- change me\n",
    "valid_idx_file = raw_dir / f\"{filename_base}_valid.csv\"  # <-- change me or set me to None\n",
    "df = import_valid_smiles_from_vl(raw_dir, filename_base, valid_idx_file=valid_idx_file)\n",
    "data = SLAPProductDataset(smiles=df[\"smiles\"].values.tolist())"
   ]
  },
  {
   "cell_type": "code",
   "execution_count": 4,
   "id": "98f96583",
   "metadata": {},
   "outputs": [],
   "source": [
    "import matplotlib.pyplot as plt\n",
    "%matplotlib inline\n",
    "\n",
    "from src.data.util import SLAPReactionSimilarityCalculator, SLAPReactionGenerator\n",
    "from src.util.rdkit_util import canonicalize_smiles"
   ]
  },
  {
   "cell_type": "code",
   "execution_count": 5,
   "id": "623c7cf3",
   "metadata": {},
   "outputs": [],
   "source": [
    "reac_gen = SLAPReactionGenerator()"
   ]
  },
  {
   "cell_type": "code",
   "execution_count": 6,
   "id": "5ea45cf7",
   "metadata": {},
   "outputs": [],
   "source": [
    "reac_gen.initialize_dataset(\"../data/reactionSMILESunbalanced_LCMS_2022-08-25_without_validation.csv\")"
   ]
  },
  {
   "cell_type": "code",
   "execution_count": 7,
   "id": "3ba74803",
   "metadata": {},
   "outputs": [],
   "source": [
    "similarity_calculator = SLAPReactionSimilarityCalculator(*reac_gen.get_reactants_in_dataset())"
   ]
  },
  {
   "cell_type": "code",
   "execution_count": 8,
   "id": "78972ddc",
   "metadata": {},
   "outputs": [
    {
     "data": {
      "text/plain": [
       "2"
      ]
     },
     "execution_count": 8,
     "metadata": {},
     "output_type": "execute_result"
    }
   ],
   "source": [
    "len(reac_gen.get_reactants_in_dataset())"
   ]
  },
  {
   "cell_type": "code",
   "execution_count": 9,
   "id": "e32baf97",
   "metadata": {},
   "outputs": [],
   "source": [
    "similarities_slap = np.zeros((len(data.reactants), len(reac_gen.get_reactants_in_dataset()[0])))\n",
    "similarities_aldehyde = np.zeros((len(data.reactants), len(reac_gen.get_reactants_in_dataset()[1])))"
   ]
  },
  {
   "cell_type": "code",
   "execution_count": 10,
   "id": "69103990",
   "metadata": {},
   "outputs": [
    {
     "data": {
      "text/plain": [
       "(13660, 48)"
      ]
     },
     "execution_count": 10,
     "metadata": {},
     "output_type": "execute_result"
    }
   ],
   "source": [
    "similarities_aldehyde.shape"
   ]
  },
  {
   "cell_type": "code",
   "execution_count": 11,
   "id": "38b7e5d9",
   "metadata": {},
   "outputs": [],
   "source": [
    "for i, (slap, ald) in enumerate(data.reactants):\n",
    "    sim_s, sim_a = similarity_calculator.calculate_similarity(reactants=(slap, ald))\n",
    "    similarities_slap[i] = sim_s\n",
    "    similarities_aldehyde[i] = sim_a"
   ]
  },
  {
   "cell_type": "code",
   "execution_count": 12,
   "id": "941d001f",
   "metadata": {},
   "outputs": [
    {
     "data": {
      "text/plain": [
       "array([[0.43859649, 0.66666667, 0.53846154, ..., 0.79310345, 0.50909091,\n",
       "        0.85185185],\n",
       "       [0.47368421, 0.64150943, 0.57692308, ..., 0.73770492, 0.51785714,\n",
       "        0.78947368],\n",
       "       [0.65217391, 0.54901961, 0.60869565, ..., 0.4       , 0.57142857,\n",
       "        0.40298507],\n",
       "       ...,\n",
       "       [0.52941176, 0.8       , 0.68888889, ..., 0.58730159, 0.64583333,\n",
       "        0.62711864],\n",
       "       [0.47457627, 0.52542373, 0.57407407, ..., 0.49315068, 0.54385965,\n",
       "        0.52173913],\n",
       "       [0.62222222, 0.80952381, 0.82051282, ..., 0.55737705, 0.76190476,\n",
       "        0.56896552]])"
      ]
     },
     "execution_count": 12,
     "metadata": {},
     "output_type": "execute_result"
    }
   ],
   "source": [
    "similarities_slap"
   ]
  },
  {
   "cell_type": "code",
   "execution_count": 13,
   "id": "8c18a6d8",
   "metadata": {
    "scrolled": false
   },
   "outputs": [
    {
     "data": {
      "image/png": "[encoded data removed]",
      "text/plain": [
       "<Figure size 640x480 with 1 Axes>"
      ]
     },
     "metadata": {},
     "output_type": "display_data"
    }
   ],
   "source": [
    "plt.hist(similarities_slap.flatten(), bins=50)\n",
    "plt.title(\"Distribution of SLAP reagent Tanimoto similarities\")\n",
    "plt.show()"
   ]
  },
  {
   "cell_type": "code",
   "execution_count": 14,
   "id": "56c7965a",
   "metadata": {},
   "outputs": [
    {
     "data": {
      "image/png": "[encoded data removed]",
      "text/plain": [
       "<Figure size 640x480 with 1 Axes>"
      ]
     },
     "metadata": {},
     "output_type": "display_data"
    }
   ],
   "source": [
    "plt.hist(similarities_aldehyde.flatten(), bins=50)\n",
    "plt.title(\"Distribution of aldehyde Tanimoto similarities\")\n",
    "plt.show()"
   ]
  },
  {
   "cell_type": "code",
   "execution_count": 19,
   "id": "ec680ef8",
   "metadata": {},
   "outputs": [
    {
     "data": {
      "text/plain": [
       "0.7441860465116279"
      ]
     },
     "execution_count": 19,
     "metadata": {},
     "output_type": "execute_result"
    }
   ],
   "source": [
    "np.quantile(similarities_slap.flatten(), 0.90)"
   ]
  },
  {
   "cell_type": "code",
   "execution_count": 20,
   "id": "db2f062c",
   "metadata": {},
   "outputs": [
    {
     "data": {
      "text/plain": [
       "0.41935483870967744"
      ]
     },
     "execution_count": 20,
     "metadata": {},
     "output_type": "execute_result"
    }
   ],
   "source": [
    "np.quantile(similarities_aldehyde.flatten(), 0.90)"
   ]
  },
  {
   "cell_type": "markdown",
   "id": "6e94cdc7",
   "metadata": {},
   "source": [
    "### Conclusion\n",
    "From the distributions, it is obvious that we cannot use the same threshold for SLAP reagent and aldehyde similarity.\n",
    "Eyeballing these distributions, we can take the middle of a righthand downward slope, so ca. 0.7 for SLAP reagents and 0.3 for aldehydes"
   ]
  },
  {
   "cell_type": "code",
   "execution_count": 21,
   "id": "9c42999e",
   "metadata": {},
   "outputs": [],
   "source": [
    "similarity = []\n",
    "for i, (slap, ald) in enumerate(data.reactants):\n",
    "    sim = similarity_calculator.is_similar(reactants=(slap, ald),\n",
    "                                                    slap_similarity_threshold=0.74, \n",
    "                                                    aldehyde_similarity_threshold=0.42\n",
    "                                                   )\n",
    "    similarity.append(sim)"
   ]
  },
  {
   "cell_type": "code",
   "execution_count": 24,
   "id": "67d46dce",
   "metadata": {},
   "outputs": [
    {
     "data": {
      "text/plain": [
       "8023"
      ]
     },
     "execution_count": 24,
     "metadata": {},
     "output_type": "execute_result"
    }
   ],
   "source": [
    "similarity.count(False)"
   ]
  }
 ],
 "metadata": {
  "kernelspec": {
   "display_name": "Python 3 (ipykernel)",
   "language": "python",
   "name": "python3"
  },
  "language_info": {
   "codemirror_mode": {
    "name": "ipython",
    "version": 3
   },
   "file_extension": ".py",
   "mimetype": "text/x-python",
   "name": "python",
   "nbconvert_exporter": "python",
   "pygments_lexer": "ipython3",
   "version": "3.7.13"
  }
 },
 "nbformat": 4,
 "nbformat_minor": 5
}
