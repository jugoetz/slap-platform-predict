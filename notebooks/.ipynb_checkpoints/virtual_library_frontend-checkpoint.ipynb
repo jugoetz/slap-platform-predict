{
 "cells": [
  {
   "cell_type": "markdown",
   "id": "3a8e7bf4",
   "metadata": {},
   "source": [
    "# VL frontend\n",
    "\n",
    "Enter the SMILES or identifier of a compound in the SLAP virtual library and see the predicted properties + synthesizability"
   ]
  },
  {
   "cell_type": "code",
   "execution_count": 41,
   "id": "423774aa",
   "metadata": {},
   "outputs": [],
   "source": [
    "import pathlib\n",
    "import pandas as pd\n",
    "\n",
    "from rdkit import Chem\n",
    "from rdkit.Chem import Draw"
   ]
  },
  {
   "cell_type": "code",
   "execution_count": 7,
   "id": "bf7dd90f",
   "metadata": {},
   "outputs": [],
   "source": [
    "vl_dir = pathlib.Path(\"../data/VL/\")"
   ]
  },
  {
   "cell_type": "code",
   "execution_count": 9,
   "id": "b49309a5",
   "metadata": {},
   "outputs": [],
   "source": [
    "smiles = \"Cc1cnn(C)c1C1COC(C)C(c2ccc3cc(F)c(F)cc3n2)N1\""
   ]
  },
  {
   "cell_type": "code",
   "execution_count": 10,
   "id": "eefc7965",
   "metadata": {},
   "outputs": [],
   "source": [
    "dfs = []\n",
    "for i in range(1749):\n",
    "    dfs.append(pd.read_csv(vl_dir / f\"VL_chunk_{i:04}_smiles.csv.bz2\"))\n",
    "df = pd.concat(dfs)"
   ]
  },
  {
   "cell_type": "code",
   "execution_count": 29,
   "id": "e6f0f9d0",
   "metadata": {},
   "outputs": [],
   "source": [
    "try:\n",
    "    mol_number = int(df.loc[df[\"smiles\"] == smiles, \"mol_number\"])\n",
    "except TypeError:\n",
    "    print(\"The input SMILES was not found in the virtual library\")"
   ]
  },
  {
   "cell_type": "code",
   "execution_count": 42,
   "id": "2c4ad869",
   "metadata": {},
   "outputs": [],
   "source": [
    "chunk = mol_number // 10000"
   ]
  },
  {
   "cell_type": "code",
   "execution_count": 36,
   "id": "65125a5d",
   "metadata": {},
   "outputs": [],
   "source": [
    "df_props = pd.read_csv(vl_dir / f\"VL_chunk_{chunk:04}.csv.bz2\")"
   ]
  },
  {
   "cell_type": "code",
   "execution_count": 39,
   "id": "f914d8e8",
   "metadata": {},
   "outputs": [],
   "source": [
    "df_compound = df_props.loc[df_props[\"mol_number\"] == mol_number]"
   ]
  },
  {
   "cell_type": "code",
   "execution_count": 54,
   "id": "199bd9e8",
   "metadata": {},
   "outputs": [
    {
     "data": {
      "image/png": "[encoded data removed]",
      "text/plain": [
       "<PIL.PngImagePlugin.PngImageFile image mode=RGB size=300x300 at 0x7FC7F551D910>"
      ]
     },
     "execution_count": 54,
     "metadata": {},
     "output_type": "execute_result"
    }
   ],
   "source": [
    "# draw it first\n",
    "mol = Chem.MolFromSmiles(df_compound.at[0,\"smiles\"])\n",
    "Draw.MolToImage(mol)"
   ]
  },
  {
   "cell_type": "code",
   "execution_count": 73,
   "id": "945bb6fd",
   "metadata": {},
   "outputs": [
    {
     "name": "stdout",
     "output_type": "stream",
     "text": [
      "Predicted properties for Cc1cnn(C)c1C1COC(C)C(c2ccc3cc(F)c(F)cc3n2)N1:\n",
      "Predicted logD at pH 7.4: 3.4\n",
      "Predicted aq solubility at pH 6.8: 0.093 mM\n",
      "Predicted pKa: 5.7\n"
     ]
    }
   ],
   "source": [
    "print(f\"Predicted properties for {smiles}:\")\n",
    "print(f\"Predicted logD at pH 7.4: {df_compound.at[0,'predicted_logD_pH7.4']:.1f}\")\n",
    "print(f\"Predicted aq solubility at pH 6.8: {10 ** df_compound.at[0,'predicted_logSolubility_pH6.8_(mM)']:.3f} mM\")\n",
    "print(f\"Predicted pKa: {df_compound.at[0,'center1_pKa']:.1f}\")"
   ]
  },
  {
   "cell_type": "code",
   "execution_count": 58,
   "id": "ca22197a",
   "metadata": {},
   "outputs": [
    {
     "data": {
      "text/plain": [
       "Index(['mol_number', 'smiles', 'number_of_ionizable_centers',\n",
       "       'center1_acidorbase', 'center1_pKa', 'center1_atom_number',\n",
       "       'center1_prediction_quality', 'center2_acidorbase', 'center2_pKa',\n",
       "       'center2_atom_number', 'center2_prediction_quality',\n",
       "       'center3_acidorbase', 'center3_pKa', 'center3_atom_number',\n",
       "       'center3_prediction_quality', 'center4_acidorbase', 'center4_pKa',\n",
       "       'center4_atom_number', 'center4_prediction_quality',\n",
       "       'center5_acidorbase', 'center5_pKa', 'center5_atom_number',\n",
       "       'center5_prediction_quality', 'center6_acidorbase', 'center6_pKa',\n",
       "       'center6_atom_number', 'center6_prediction_quality',\n",
       "       'center7_acidorbase', 'center7_pKa', 'center7_atom_number',\n",
       "       'center7_prediction_quality', 'center8_acidorbase', 'center8_pKa',\n",
       "       'center8_atom_number', 'center8_prediction_quality',\n",
       "       'predicted_logD_pH7.4', 'predicted_logSolubility_pH6.8_(mM)',\n",
       "       'predicted_ionization_constant', 'rxn1_smiles', 'rxn1_predictions',\n",
       "       'rxn1_confidence', 'rxn2_smiles', 'rxn2_predictions',\n",
       "       'rxn2_confidence'],\n",
       "      dtype='object')"
      ]
     },
     "execution_count": 58,
     "metadata": {},
     "output_type": "execute_result"
    }
   ],
   "source": [
    "df_compound.columns"
   ]
  },
  {
   "cell_type": "code",
   "execution_count": 74,
   "id": "02340daa",
   "metadata": {},
   "outputs": [
    {
     "name": "stdout",
     "output_type": "stream",
     "text": [
      "Reactions leading to this compound:\n"
     ]
    }
   ],
   "source": [
    "print(\"Reactions leading to this compound:\")\n"
   ]
  },
  {
   "cell_type": "code",
   "execution_count": null,
   "id": "3246314c",
   "metadata": {},
   "outputs": [],
   "source": []
  }
 ],
 "metadata": {
  "kernelspec": {
   "display_name": "Python 3 (ipykernel)",
   "language": "python",
   "name": "python3"
  },
  "language_info": {
   "codemirror_mode": {
    "name": "ipython",
    "version": 3
   },
   "file_extension": ".py",
   "mimetype": "text/x-python",
   "name": "python",
   "nbconvert_exporter": "python",
   "pygments_lexer": "ipython3",
   "version": "3.7.13"
  }
 },
 "nbformat": 4,
 "nbformat_minor": 5
}
