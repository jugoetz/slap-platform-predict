{
 "cells": [
  {
   "cell_type": "markdown",
   "id": "62c4535b",
   "metadata": {},
   "source": [
    "# Assess thresholds to use for similarity decision"
   ]
  },
  {
   "cell_type": "markdown",
   "id": "65d90127",
   "metadata": {},
   "source": [
    "We want to choose a threshold for Tanimoto similarity that compounds need to have to be considered similar to training data. We use 10000 random products from the VL to assess the typical distribution of Tanimoto coefficients.\n"
   ]
  },
  {
   "cell_type": "code",
   "execution_count": 1,
   "id": "d83b22f9",
   "metadata": {},
   "outputs": [
    {
     "name": "stderr",
     "output_type": "stream",
     "text": [
      "WARNING:root:No normalization for BCUT2D_MWHI\n",
      "WARNING:root:No normalization for BCUT2D_MWLOW\n",
      "WARNING:root:No normalization for BCUT2D_CHGHI\n",
      "WARNING:root:No normalization for BCUT2D_CHGLO\n",
      "WARNING:root:No normalization for BCUT2D_LOGPHI\n",
      "WARNING:root:No normalization for BCUT2D_LOGPLOW\n",
      "WARNING:root:No normalization for BCUT2D_MRHI\n",
      "WARNING:root:No normalization for BCUT2D_MRLOW\n"
     ]
    }
   ],
   "source": [
    "import pathlib\n",
    "import sys\n",
    "sys.path.append(str(pathlib.Path(\"__file__\").absolute().parents[1]))\n",
    "\n",
    "import matplotlib.pyplot as plt\n",
    "%matplotlib inline\n",
    "import numpy as np\n",
    "\n",
    "from inference import import_valid_smiles_from_vl\n",
    "from src.data.dataloader import SLAPProductDataset\n",
    "from src.data.util import SLAPReactionSimilarityCalculator, SLAPReactionGenerator"
   ]
  },
  {
   "cell_type": "code",
   "execution_count": 7,
   "id": "e1ac6857",
   "metadata": {},
   "outputs": [
    {
     "name": "stdout",
     "output_type": "stream",
     "text": [
      "WARNING: Could not generate reaction for product with index 2190. Using dummy reaction.\n",
      "Error leading to this warning: More than two possible reactions found.\n",
      "WARNING: Could not generate reaction for product with index 2333. Using dummy reaction.\n",
      "Error leading to this warning: Encountered RuntimeError while generating reaction for product 'CC1OCC(c2cccc3cc[nH]c23)NC1C1CC[Si](C)(C)C1'.\n",
      "Original error message: More than one reaction found for SLAP reagent 'CC(OC[Si](C)(C)C)C(N)C1CC[Si](C)(C)C1' and aldehyde 'O=Cc1cccc2cc[nH]c12'.\n",
      "Reactions:\n",
      "C[Si]1(C)[CH2:8][CH2:7][CH:6]([CH:4]([CH:3]([CH3:17])[O:18][CH2:19][Si:20]([CH3:21])([CH3:22])[CH3:23])[NH2:5])[CH2:24]1.O=[CH:2][c:1]1[cH:9][cH:11][cH:14][c:13]2[c:10]1[nH:12][cH:15][cH:16]2>>[c:1]1([CH:2]2[NH:5][CH:4]([CH:3]([CH3:17])[O:18][CH2:19][Si:20]([CH3:21])([CH3:22])[CH3:23])[CH:6]([CH3:24])[CH2:7][CH2:8]2)[cH:9][cH:11][cH:14][c:13]2[c:10]1[nH:12][cH:15][cH:16]2\n",
      "C[Si](C)(C)[CH2:8][O:7][CH:6]([CH:4]([CH:3]1[CH2:17][CH2:19][Si:20]([CH3:21])([CH3:22])[CH2:18]1)[NH2:5])[CH3:23].O=[CH:2][c:1]1[cH:9][cH:11][cH:14][c:13]2[c:10]1[nH:12][cH:15][cH:16]2>>[c:1]1([CH:2]2[NH:5][CH:4]([CH:3]3[CH2:17][CH2:19][Si:20]([CH3:21])([CH3:22])[CH2:18]3)[CH:6]([CH3:23])[O:7][CH2:8]2)[cH:9][cH:11][cH:14][c:13]2[c:10]1[nH:12][cH:15][cH:16]2\n",
      "WARNING: Could not generate reaction for product with index 5214. Using dummy reaction.\n",
      "Error leading to this warning: Encountered RuntimeError while generating reaction for product 'C[C@H]1CC(=O)NC[C@H]1CC1COCC(C2CC[Si](C)(C)C2)N1'.\n",
      "Original error message: More than one reaction found for SLAP reagent 'C[Si](C)(C)COCC(N)C1CC[Si](C)(C)C1' and aldehyde 'C[C@H]1CC(=O)NC[C@H]1CC=O'.\n",
      "Reactions:\n",
      "C[Si]1(C)[CH2:8][CH2:7][CH:6]([CH:4]([CH2:3][O:17][CH2:18][Si:19]([CH3:20])([CH3:21])[CH3:22])[NH2:5])[CH2:23]1.O=[CH:2][CH2:1][C@@H:9]1[CH2:10][NH:12][C:15](=[O:16])[CH2:14][C@@H:11]1[CH3:13]>>[CH2:1]([CH:2]1[NH:5][CH:4]([CH2:3][O:17][CH2:18][Si:19]([CH3:20])([CH3:21])[CH3:22])[CH:6]([CH3:23])[CH2:7][CH2:8]1)[C@@H:9]1[CH2:10][NH:12][C:15](=[O:16])[CH2:14][C@@H:11]1[CH3:13]\n",
      "C[Si](C)(C)[CH2:8][O:7][CH2:6][CH:4]([CH:3]1[CH2:17][CH2:19][Si:20]([CH3:21])([CH3:22])[CH2:18]1)[NH2:5].O=[CH:2][CH2:1][C@@H:9]1[CH2:10][NH:12][C:15](=[O:16])[CH2:14][C@@H:11]1[CH3:13]>>[CH2:1]([CH:2]1[NH:5][CH:4]([CH:3]2[CH2:17][CH2:19][Si:20]([CH3:21])([CH3:22])[CH2:18]2)[CH2:6][O:7][CH2:8]1)[C@@H:9]1[CH2:10][NH:12][C:15](=[O:16])[CH2:14][C@@H:11]1[CH3:13]\n",
      "WARNING: Could not generate reaction for product with index 5255. Using dummy reaction.\n",
      "Error leading to this warning: Encountered RuntimeError while generating reaction for product 'CC1OCC(c2sccc2Cl)NC1C1CC[Si](C)(C)C1'.\n",
      "Original error message: More than one reaction found for SLAP reagent 'CC(OC[Si](C)(C)C)C(N)C1CC[Si](C)(C)C1' and aldehyde 'O=Cc1sccc1Cl'.\n",
      "Reactions:\n",
      "C[Si]1(C)[CH2:8][CH2:7][CH:6]([CH:4]([CH:3]([CH3:14])[O:15][CH2:16][Si:17]([CH3:18])([CH3:19])[CH3:20])[NH2:5])[CH2:21]1.O=[CH:2][c:1]1[s:9][cH:11][cH:12][c:10]1[Cl:13]>>[c:1]1([CH:2]2[NH:5][CH:4]([CH:3]([CH3:14])[O:15][CH2:16][Si:17]([CH3:18])([CH3:19])[CH3:20])[CH:6]([CH3:21])[CH2:7][CH2:8]2)[s:9][cH:11][cH:12][c:10]1[Cl:13]\n",
      "C[Si](C)(C)[CH2:8][O:7][CH:6]([CH:4]([CH:3]1[CH2:14][CH2:16][Si:17]([CH3:18])([CH3:19])[CH2:15]1)[NH2:5])[CH3:20].O=[CH:2][c:1]1[s:9][cH:11][cH:12][c:10]1[Cl:13]>>[c:1]1([CH:2]2[NH:5][CH:4]([CH:3]3[CH2:14][CH2:16][Si:17]([CH3:18])([CH3:19])[CH2:15]3)[CH:6]([CH3:20])[O:7][CH2:8]2)[s:9][cH:11][cH:12][c:10]1[Cl:13]\n",
      "WARNING: Could not generate reaction for product with index 5295. Using dummy reaction.\n",
      "Error leading to this warning: Encountered RuntimeError while generating reaction for product 'CC1OCC(c2cc3c(cn2)OCCO3)NC1C1CC[Si](C)(C)C1'.\n",
      "Original error message: More than one reaction found for SLAP reagent 'CC(OC[Si](C)(C)C)C(N)C1CC[Si](C)(C)C1' and aldehyde 'O=Cc1cc2c(cn1)OCCO2'.\n",
      "Reactions:\n",
      "C[Si]1(C)[CH2:8][CH2:7][CH:6]([CH:4]([CH:3]([CH3:18])[O:19][CH2:20][Si:21]([CH3:22])([CH3:23])[CH3:24])[NH2:5])[CH2:25]1.O=[CH:2][c:1]1[cH:9][c:11]2[c:13]([cH:12][n:10]1)[O:15][CH2:17][CH2:16][O:14]2>>[c:1]1([CH:2]2[NH:5][CH:4]([CH:3]([CH3:18])[O:19][CH2:20][Si:21]([CH3:22])([CH3:23])[CH3:24])[CH:6]([CH3:25])[CH2:7][CH2:8]2)[cH:9][c:11]2[c:13]([cH:12][n:10]1)[O:15][CH2:17][CH2:16][O:14]2\n",
      "C[Si](C)(C)[CH2:8][O:7][CH:6]([CH:4]([CH:3]1[CH2:18][CH2:20][Si:21]([CH3:22])([CH3:23])[CH2:19]1)[NH2:5])[CH3:24].O=[CH:2][c:1]1[cH:9][c:11]2[c:13]([cH:12][n:10]1)[O:15][CH2:17][CH2:16][O:14]2>>[c:1]1([CH:2]2[NH:5][CH:4]([CH:3]3[CH2:18][CH2:20][Si:21]([CH3:22])([CH3:23])[CH2:19]3)[CH:6]([CH3:24])[O:7][CH2:8]2)[cH:9][c:11]2[c:13]([cH:12][n:10]1)[O:15][CH2:17][CH2:16][O:14]2\n",
      "WARNING: Could not generate reaction for product with index 8293. Using dummy reaction.\n",
      "Error leading to this warning: More than two possible reactions found.\n",
      "INFO: 10000 SMILES were read. For 6 SMILES, no valid SLAP reaction could be generated.\n"
     ]
    }
   ],
   "source": [
    "# Import product SMILES and generate reactionSMILES. This will take some time.\n",
    "# This will throw warnings if any reactions cannot be generated, \n",
    "# e.g. if there are two morpholines in the same product.\n",
    "raw_dir = pathlib.Path(\"../../SLAP_library/data/\")  # <-- change me\n",
    "filename = \"tsne_plot_2023-02-03_smiles_only_random.csv\"  # <-- change me\n",
    "valid_idx_file = None  # <-- change me or set me to None\n",
    "df = import_valid_smiles_from_vl(raw_dir, filename, valid_idx_file=valid_idx_file)\n",
    "data = SLAPProductDataset(smiles=df[\"smiles\"].values.tolist())"
   ]
  },
  {
   "cell_type": "code",
   "execution_count": 8,
   "id": "4eafd524",
   "metadata": {},
   "outputs": [],
   "source": [
    "reac_gen = SLAPReactionGenerator()"
   ]
  },
  {
   "cell_type": "code",
   "execution_count": 9,
   "id": "f30d7f1e",
   "metadata": {},
   "outputs": [],
   "source": [
    "reac_gen.initialize_dataset(\"../data/reactionSMILESunbalanced_LCMS_2022-08-25_without_validation.csv\")"
   ]
  },
  {
   "cell_type": "code",
   "execution_count": 10,
   "id": "627a956a",
   "metadata": {},
   "outputs": [],
   "source": [
    "similarity_calculator = SLAPReactionSimilarityCalculator(*reac_gen.get_reactants_in_dataset())"
   ]
  },
  {
   "cell_type": "code",
   "execution_count": 11,
   "id": "4e059719",
   "metadata": {},
   "outputs": [
    {
     "data": {
      "text/plain": [
       "2"
      ]
     },
     "execution_count": 11,
     "metadata": {},
     "output_type": "execute_result"
    }
   ],
   "source": [
    "len(reac_gen.get_reactants_in_dataset())"
   ]
  },
  {
   "cell_type": "code",
   "execution_count": 12,
   "id": "6baa319a",
   "metadata": {},
   "outputs": [],
   "source": [
    "similarities_slap = np.zeros((len(data.reactants), len(reac_gen.get_reactants_in_dataset()[0])))\n",
    "similarities_aldehyde = np.zeros((len(data.reactants), len(reac_gen.get_reactants_in_dataset()[1])))"
   ]
  },
  {
   "cell_type": "code",
   "execution_count": 13,
   "id": "6505f30c",
   "metadata": {},
   "outputs": [
    {
     "data": {
      "text/plain": [
       "(15559, 48)"
      ]
     },
     "execution_count": 13,
     "metadata": {},
     "output_type": "execute_result"
    }
   ],
   "source": [
    "similarities_aldehyde.shape"
   ]
  },
  {
   "cell_type": "code",
   "execution_count": 14,
   "id": "38b7e5d9",
   "metadata": {},
   "outputs": [],
   "source": [
    "for i, (slap, ald) in enumerate(data.reactants):\n",
    "    sim_s, sim_a = similarity_calculator.calculate_similarity(reactants=(slap, ald))\n",
    "    similarities_slap[i] = sim_s\n",
    "    similarities_aldehyde[i] = sim_a"
   ]
  },
  {
   "cell_type": "code",
   "execution_count": 15,
   "id": "8c039093",
   "metadata": {},
   "outputs": [
    {
     "data": {
      "text/plain": [
       "array([[0.57627119, 0.57407407, 0.51515152, ..., 0.49090909, 0.59259259,\n",
       "        0.71428571],\n",
       "       [0.72      , 0.69565217, 0.63157895, ..., 0.59574468, 0.7173913 ,\n",
       "        0.78      ],\n",
       "       [0.58333333, 0.5       , 0.7       , ..., 0.52727273, 0.51724138,\n",
       "        0.63333333],\n",
       "       ...,\n",
       "       [0.76923077, 0.61538462, 0.57142857, ..., 0.55769231, 0.63461538,\n",
       "        0.72727273],\n",
       "       [0.61702128, 0.74358974, 0.56603774, ..., 0.625     , 0.725     ,\n",
       "        0.58      ],\n",
       "       [0.78431373, 0.62745098, 0.58064516, ..., 0.56862745, 0.61538462,\n",
       "        0.64912281]])"
      ]
     },
     "execution_count": 15,
     "metadata": {},
     "output_type": "execute_result"
    }
   ],
   "source": [
    "similarities_slap"
   ]
  },
  {
   "cell_type": "code",
   "execution_count": 25,
   "id": "cf9dc516",
   "metadata": {},
   "outputs": [
    {
     "data": {
      "text/plain": [
       "0.017543859649122806"
      ]
     },
     "execution_count": 25,
     "metadata": {},
     "output_type": "execute_result"
    }
   ],
   "source": [
    "similarities_slap[3413,24]"
   ]
  },
  {
   "cell_type": "code",
   "execution_count": 29,
   "id": "f033836c",
   "metadata": {},
   "outputs": [
    {
     "data": {
      "image/png": "[encoded data removed]",
      "text/plain": [
       "<rdkit.Chem.rdchem.Mol at 0x7f4d7751ba30>"
      ]
     },
     "execution_count": 29,
     "metadata": {},
     "output_type": "execute_result"
    }
   ],
   "source": [
    "data.reactants[3413][0]"
   ]
  },
  {
   "cell_type": "code",
   "execution_count": 30,
   "id": "803446dc",
   "metadata": {},
   "outputs": [
    {
     "data": {
      "image/png": "[encoded data removed]",
      "text/plain": [
       "<rdkit.Chem.rdchem.Mol at 0x7f4d76579390>"
      ]
     },
     "execution_count": 30,
     "metadata": {},
     "output_type": "execute_result"
    }
   ],
   "source": [
    "data.reactants[24][0]"
   ]
  },
  {
   "cell_type": "code",
   "execution_count": 24,
   "id": "6e6eefd4",
   "metadata": {},
   "outputs": [
    {
     "data": {
      "text/plain": [
       "(3413, 24)"
      ]
     },
     "execution_count": 24,
     "metadata": {},
     "output_type": "execute_result"
    }
   ],
   "source": [
    "np.unravel_index(np.argmin(similarities_slap), similarities_slap.shape)"
   ]
  },
  {
   "cell_type": "code",
   "execution_count": 32,
   "id": "8ae736a9",
   "metadata": {},
   "outputs": [],
   "source": [
    "import seaborn as sns"
   ]
  },
  {
   "cell_type": "code",
   "execution_count": null,
   "id": "329d1742",
   "metadata": {},
   "outputs": [],
   "source": []
  },
  {
   "cell_type": "code",
   "execution_count": 36,
   "id": "bc19a89a",
   "metadata": {},
   "outputs": [],
   "source": [
    "# set the theme here\n",
    "#sns.set_theme(font_scale=.7, context=\"paper\", style=\"whitegrid\")\n",
    "\n",
    "sns.set_theme(context=\"paper\", \n",
    "              style=\"white\", \n",
    "              font_scale=0.8,\n",
    "              rc={\"savefig.transparent\": True, \n",
    "                  \"axes.grid\": False, \n",
    "                  \"axes.spines.bottom\": True,\n",
    "                  \"axes.spines.left\": True,\n",
    "                  \"axes.spines.right\": False,\n",
    "                  \"axes.spines.top\": False,\n",
    "                  \"font.family\":'sans-serif',\n",
    "                  \"font.sans-serif\":[\"Helvetica\", \"Arial\"],\n",
    "                  \"xtick.major.pad\": 0.0,\n",
    "                  \"xtick.minor.pad\": 0.0,\n",
    "                  \"ytick.major.pad\": 0.0,\n",
    "                  \"ytick.minor.pad\": 0.0,\n",
    "                  \"axes.labelweight\": \"bold\",\n",
    "                  \"axes.labelpad\": 2.5,  # standard is 4.0\n",
    "                  \"axes.xmargin\": .05,\n",
    "                 }, \n",
    "             )"
   ]
  },
  {
   "cell_type": "code",
   "execution_count": 54,
   "id": "8324cee6",
   "metadata": {
    "scrolled": false
   },
   "outputs": [
    {
     "data": {
      "image/png": "[encoded data removed]",
      "text/plain": [
       "<Figure size 350x200 with 1 Axes>"
      ]
     },
     "metadata": {},
     "output_type": "display_data"
    }
   ],
   "source": [
    "# Distribution of SLAP reagent Tanimoto similarities\n",
    "plt.figure(figsize=(3.5, 2))\n",
    "plt.hist(similarities_slap.flatten(), bins=50, color=\"#4A4B68\")\n",
    "plt.xlabel(\"Tanimoto similarity\")\n",
    "plt.ylabel(\"Counts\")\n",
    "plt.tight_layout()\n",
    "plt.savefig(\"../data/FigS7_SLAP-similarity-histogram.svg\", format=\"svg\")"
   ]
  },
  {
   "cell_type": "code",
   "execution_count": 56,
   "id": "7beabfc8",
   "metadata": {},
   "outputs": [
    {
     "data": {
      "image/png": "[encoded data removed]",
      "text/plain": [
       "<Figure size 350x200 with 1 Axes>"
      ]
     },
     "metadata": {},
     "output_type": "display_data"
    }
   ],
   "source": [
    "# Distribution of aldehyde Tanimoto similarities\n",
    "plt.figure(figsize=(3.5, 2))\n",
    "plt.hist(similarities_aldehyde.flatten(), bins=50, color=\"#4A4B68\")\n",
    "plt.xlabel(\"Tanimoto similarity\")\n",
    "plt.ylabel(\"Counts\")\n",
    "plt.tight_layout()\n",
    "plt.savefig(\"../data/FigS7_Aldehyde-similarity-histogram.svg\", format=\"svg\")"
   ]
  },
  {
   "cell_type": "code",
   "execution_count": 18,
   "id": "46b28b48",
   "metadata": {},
   "outputs": [
    {
     "data": {
      "text/plain": [
       "0.7441860465116279"
      ]
     },
     "execution_count": 18,
     "metadata": {},
     "output_type": "execute_result"
    }
   ],
   "source": [
    "np.quantile(similarities_slap.flatten(), 0.90)"
   ]
  },
  {
   "cell_type": "code",
   "execution_count": 19,
   "id": "c5852c2b",
   "metadata": {},
   "outputs": [
    {
     "data": {
      "text/plain": [
       "0.4186046511627907"
      ]
     },
     "execution_count": 19,
     "metadata": {},
     "output_type": "execute_result"
    }
   ],
   "source": [
    "np.quantile(similarities_aldehyde.flatten(), 0.90)"
   ]
  },
  {
   "cell_type": "markdown",
   "id": "f3e72da8",
   "metadata": {},
   "source": [
    "### Conclusion\n",
    "From the distributions, it is obvious that we cannot use the same threshold for SLAP reagent and aldehyde similarity.\n",
    "We use the 90th percentile as the threshold, so ca. 0.74 for SLAP reagents and 0.42 for aldehydes."
   ]
  },
  {
   "cell_type": "code",
   "execution_count": 44,
   "id": "5cc1fe17",
   "metadata": {},
   "outputs": [],
   "source": [
    "similarity = []\n",
    "for i, (slap, ald) in enumerate(data.reactants):\n",
    "    sim = similarity_calculator.is_similar(reactants=(slap, ald),\n",
    "                                                    slap_similarity_threshold=0.74, \n",
    "                                                    aldehyde_similarity_threshold=0.42\n",
    "                                                   )\n",
    "    similarity.append(sim)"
   ]
  },
  {
   "cell_type": "code",
   "execution_count": 45,
   "id": "553fb22d",
   "metadata": {},
   "outputs": [
    {
     "data": {
      "text/plain": [
       "9190"
      ]
     },
     "execution_count": 45,
     "metadata": {},
     "output_type": "execute_result"
    }
   ],
   "source": [
    "similarity.count(False)"
   ]
  },
  {
   "cell_type": "code",
   "execution_count": 46,
   "id": "f8d37ae6",
   "metadata": {},
   "outputs": [
    {
     "data": {
      "text/plain": [
       "6369"
      ]
     },
     "execution_count": 46,
     "metadata": {},
     "output_type": "execute_result"
    }
   ],
   "source": [
    "similarity.count(True)"
   ]
  },
  {
   "cell_type": "code",
   "execution_count": null,
   "id": "f0358a43",
   "metadata": {},
   "outputs": [],
   "source": []
  }
 ],
 "metadata": {
  "kernelspec": {
   "display_name": "Python 3 (ipykernel)",
   "language": "python",
   "name": "python3"
  },
  "language_info": {
   "codemirror_mode": {
    "name": "ipython",
    "version": 3
   },
   "file_extension": ".py",
   "mimetype": "text/x-python",
   "name": "python",
   "nbconvert_exporter": "python",
   "pygments_lexer": "ipython3",
   "version": "3.7.13"
  }
 },
 "nbformat": 4,
 "nbformat_minor": 5
}
