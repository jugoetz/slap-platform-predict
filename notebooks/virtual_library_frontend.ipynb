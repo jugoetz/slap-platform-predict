{
 "cells": [
  {
   "cell_type": "markdown",
   "id": "fdac4efe",
   "metadata": {},
   "source": [
    "# VL frontend\n",
    "\n",
    "Enter the SMILES or identifier of a compound in the SLAP virtual library and see the predicted properties + synthesizability"
   ]
  },
  {
   "cell_type": "code",
   "execution_count": 1,
   "id": "524c0ac4",
   "metadata": {},
   "outputs": [],
   "source": [
    "import pathlib\n",
    "import pandas as pd\n",
    "\n",
    "from rdkit import Chem\n",
    "from rdkit.Chem import Draw, rdChemReactions"
   ]
  },
  {
   "cell_type": "code",
   "execution_count": 2,
   "id": "415adac0",
   "metadata": {},
   "outputs": [],
   "source": [
    "vl_dir = pathlib.Path(\"../data/VL/\")"
   ]
  },
  {
   "cell_type": "code",
   "execution_count": 3,
   "id": "6eb6eedc",
   "metadata": {},
   "outputs": [],
   "source": [
    "smiles = \"Cc1cnn(C)c1C1COC(C)C(c2ccc3cc(F)c(F)cc3n2)N1\""
   ]
  },
  {
   "cell_type": "code",
   "execution_count": 4,
   "id": "0161ffe9",
   "metadata": {},
   "outputs": [],
   "source": [
    "dfs = []\n",
    "for i in range(1749):\n",
    "    dfs.append(pd.read_csv(vl_dir / f\"VL_chunk_{i:04}_smiles.csv.bz2\"))\n",
    "df = pd.concat(dfs)"
   ]
  },
  {
   "cell_type": "code",
   "execution_count": 5,
   "id": "78ceb120",
   "metadata": {},
   "outputs": [],
   "source": [
    "try:\n",
    "    mol_number = int(df.loc[df[\"smiles\"] == smiles, \"mol_number\"])\n",
    "except TypeError:\n",
    "    print(\"The input SMILES was not found in the virtual library\")"
   ]
  },
  {
   "cell_type": "code",
   "execution_count": 6,
   "id": "533bbd8d",
   "metadata": {},
   "outputs": [],
   "source": [
    "chunk = mol_number // 10000"
   ]
  },
  {
   "cell_type": "code",
   "execution_count": 7,
   "id": "f0d50409",
   "metadata": {},
   "outputs": [],
   "source": [
    "df_props = pd.read_csv(vl_dir / f\"VL_chunk_{chunk:04}.csv.bz2\")"
   ]
  },
  {
   "cell_type": "code",
   "execution_count": 8,
   "id": "e949cf29",
   "metadata": {},
   "outputs": [],
   "source": [
    "df_compound = df_props.loc[df_props[\"mol_number\"] == mol_number]"
   ]
  },
  {
   "cell_type": "code",
   "execution_count": 9,
   "id": "feaaf3b2",
   "metadata": {},
   "outputs": [
    {
     "data": {
      "image/png": "[encoded data removed]",
      "text/plain": [
       "<PIL.PngImagePlugin.PngImageFile image mode=RGB size=300x300 at 0x7F1B4D2BDF50>"
      ]
     },
     "execution_count": 9,
     "metadata": {},
     "output_type": "execute_result"
    }
   ],
   "source": [
    "# draw it first\n",
    "mol = Chem.MolFromSmiles(df_compound.at[0,\"smiles\"])\n",
    "Draw.MolToImage(mol)"
   ]
  },
  {
   "cell_type": "code",
   "execution_count": 10,
   "id": "aa88a16c",
   "metadata": {},
   "outputs": [
    {
     "name": "stdout",
     "output_type": "stream",
     "text": [
      "Predicted properties for Cc1cnn(C)c1C1COC(C)C(c2ccc3cc(F)c(F)cc3n2)N1:\n",
      "Predicted logD at pH 7.4: 3.4\n",
      "Predicted aq solubility at pH 6.8: 0.093 mM\n",
      "Predicted pKa: 5.7\n"
     ]
    }
   ],
   "source": [
    "print(f\"Predicted properties for {smiles}:\")\n",
    "print(f\"Predicted logD at pH 7.4: {df_compound.at[0,'predicted_logD_pH7.4']:.1f}\")\n",
    "print(f\"Predicted aq solubility at pH 6.8: {10 ** df_compound.at[0,'predicted_logSolubility_pH6.8_(mM)']:.3f} mM\")\n",
    "print(f\"Predicted pKa: {df_compound.at[0,'center1_pKa']:.1f}\")\n",
    "# todo what about the other centers?"
   ]
  },
  {
   "cell_type": "code",
   "execution_count": 11,
   "id": "17be31ba",
   "metadata": {},
   "outputs": [
    {
     "data": {
      "text/html": [
       "<div>\n",
       "<style scoped>\n",
       "    .dataframe tbody tr th:only-of-type {\n",
       "        vertical-align: middle;\n",
       "    }\n",
       "\n",
       "    .dataframe tbody tr th {\n",
       "        vertical-align: top;\n",
       "    }\n",
       "\n",
       "    .dataframe thead th {\n",
       "        text-align: right;\n",
       "    }\n",
       "</style>\n",
       "<table border=\"1\" class=\"dataframe\">\n",
       "  <thead>\n",
       "    <tr style=\"text-align: right;\">\n",
       "      <th></th>\n",
       "      <th>center1_acidorbase</th>\n",
       "      <th>center1_pKa</th>\n",
       "      <th>center1_atom_number</th>\n",
       "      <th>center1_prediction_quality</th>\n",
       "      <th>center2_acidorbase</th>\n",
       "      <th>center2_pKa</th>\n",
       "      <th>center2_atom_number</th>\n",
       "      <th>center2_prediction_quality</th>\n",
       "      <th>center3_acidorbase</th>\n",
       "      <th>center3_pKa</th>\n",
       "      <th>...</th>\n",
       "      <th>center6_atom_number</th>\n",
       "      <th>center6_prediction_quality</th>\n",
       "      <th>center7_acidorbase</th>\n",
       "      <th>center7_pKa</th>\n",
       "      <th>center7_atom_number</th>\n",
       "      <th>center7_prediction_quality</th>\n",
       "      <th>center8_acidorbase</th>\n",
       "      <th>center8_pKa</th>\n",
       "      <th>center8_atom_number</th>\n",
       "      <th>center8_prediction_quality</th>\n",
       "    </tr>\n",
       "  </thead>\n",
       "  <tbody>\n",
       "    <tr>\n",
       "      <th>0</th>\n",
       "      <td>b</td>\n",
       "      <td>5.72</td>\n",
       "      <td>26.0</td>\n",
       "      <td>0.62</td>\n",
       "      <td>b</td>\n",
       "      <td>3.1</td>\n",
       "      <td>25.0</td>\n",
       "      <td>0.69</td>\n",
       "      <td>b</td>\n",
       "      <td>0.66</td>\n",
       "      <td>...</td>\n",
       "      <td>NaN</td>\n",
       "      <td>NaN</td>\n",
       "      <td>NaN</td>\n",
       "      <td>NaN</td>\n",
       "      <td>NaN</td>\n",
       "      <td>NaN</td>\n",
       "      <td>NaN</td>\n",
       "      <td>NaN</td>\n",
       "      <td>NaN</td>\n",
       "      <td>NaN</td>\n",
       "    </tr>\n",
       "  </tbody>\n",
       "</table>\n",
       "<p>1 rows × 32 columns</p>\n",
       "</div>"
      ],
      "text/plain": [
       "  center1_acidorbase  center1_pKa  center1_atom_number  \\\n",
       "0                  b         5.72                 26.0   \n",
       "\n",
       "   center1_prediction_quality center2_acidorbase  center2_pKa  \\\n",
       "0                        0.62                  b          3.1   \n",
       "\n",
       "   center2_atom_number  center2_prediction_quality center3_acidorbase  \\\n",
       "0                 25.0                        0.69                  b   \n",
       "\n",
       "   center3_pKa  ...  center6_atom_number  center6_prediction_quality  \\\n",
       "0         0.66  ...                  NaN                         NaN   \n",
       "\n",
       "  center7_acidorbase  center7_pKa  center7_atom_number  \\\n",
       "0                NaN          NaN                  NaN   \n",
       "\n",
       "   center7_prediction_quality center8_acidorbase  center8_pKa  \\\n",
       "0                         NaN                NaN          NaN   \n",
       "\n",
       "   center8_atom_number  center8_prediction_quality  \n",
       "0                  NaN                         NaN  \n",
       "\n",
       "[1 rows x 32 columns]"
      ]
     },
     "execution_count": 11,
     "metadata": {},
     "output_type": "execute_result"
    }
   ],
   "source": [
    "df_compound[[s for s in df_compound.columns if s.startswith(\"center\")]]"
   ]
  },
  {
   "cell_type": "code",
   "execution_count": 12,
   "id": "14fce76c",
   "metadata": {},
   "outputs": [
    {
     "data": {
      "text/plain": [
       "Index(['mol_number', 'smiles', 'number_of_ionizable_centers',\n",
       "       'center1_acidorbase', 'center1_pKa', 'center1_atom_number',\n",
       "       'center1_prediction_quality', 'center2_acidorbase', 'center2_pKa',\n",
       "       'center2_atom_number', 'center2_prediction_quality',\n",
       "       'center3_acidorbase', 'center3_pKa', 'center3_atom_number',\n",
       "       'center3_prediction_quality', 'center4_acidorbase', 'center4_pKa',\n",
       "       'center4_atom_number', 'center4_prediction_quality',\n",
       "       'center5_acidorbase', 'center5_pKa', 'center5_atom_number',\n",
       "       'center5_prediction_quality', 'center6_acidorbase', 'center6_pKa',\n",
       "       'center6_atom_number', 'center6_prediction_quality',\n",
       "       'center7_acidorbase', 'center7_pKa', 'center7_atom_number',\n",
       "       'center7_prediction_quality', 'center8_acidorbase', 'center8_pKa',\n",
       "       'center8_atom_number', 'center8_prediction_quality',\n",
       "       'predicted_logD_pH7.4', 'predicted_logSolubility_pH6.8_(mM)',\n",
       "       'predicted_ionization_constant', 'rxn1_smiles', 'rxn1_predictions',\n",
       "       'rxn1_confidence', 'rxn2_smiles', 'rxn2_predictions',\n",
       "       'rxn2_confidence'],\n",
       "      dtype='object')"
      ]
     },
     "execution_count": 12,
     "metadata": {},
     "output_type": "execute_result"
    }
   ],
   "source": [
    "df_compound.columns"
   ]
  },
  {
   "cell_type": "code",
   "execution_count": 13,
   "id": "974ebe61",
   "metadata": {},
   "outputs": [
    {
     "name": "stdout",
     "output_type": "stream",
     "text": [
      "Reactions leading to this compound:\n",
      "\n",
      "C[Si](C)(C)[CH2:8][O:7][CH:6]([CH:4]([c:3]1[cH:15][cH:17][c:19]2[c:18]([n:16]1)[cH:20][c:22]([F:24])[c:23]([F:25])[cH:21]2)[NH2:5])[CH3:26].O=[CH:2][c:1]1[n:9]([CH3:12])[n:11][cH:14][c:10]1[CH3:13]>>[c:1]1([CH:2]2[NH:5][CH:4]([c:3]3[cH:15][cH:17][c:19]4[c:18]([n:16]3)[cH:20][c:22]([F:24])[c:23]([F:25])[cH:21]4)[CH:6]([CH3:26])[O:7][CH2:8]2)[n:9]([CH3:12])[n:11][cH:14][c:10]1[CH3:13]\n"
     ]
    }
   ],
   "source": [
    "print(\"Reactions leading to this compound:\\n\")\n",
    "# todo draw the reaction\n",
    "for rxn_smiles in [df_compound.at[0,'rxn1_smiles'], df_compound.at[0,'rxn2_smiles']]:\n",
    "    if isinstance(rxn_smiles, str):\n",
    "        print(rxn_smiles)"
   ]
  },
  {
   "cell_type": "code",
   "execution_count": 16,
   "id": "bac5d9e9",
   "metadata": {},
   "outputs": [],
   "source": [
    "rxn = rdChemReactions.ReactionFromSmarts(df_compound.at[0,'rxn1_smiles'], useSmiles=True)\n",
    "d2d = Draw.MolDraw2DCairo(800,300)\n",
    "d2d.DrawReaction(rxn)"
   ]
  },
  {
   "cell_type": "code",
   "execution_count": 17,
   "id": "8e754dae",
   "metadata": {},
   "outputs": [],
   "source": [
    "d2d.FinishDrawing()"
   ]
  },
  {
   "cell_type": "code",
   "execution_count": 18,
   "id": "b34e294c",
   "metadata": {},
   "outputs": [
    {
     "data": {
      "text/plain": [
       "<rdkit.Chem.Draw.rdMolDraw2D.MolDraw2DCairo at 0x7f1b3af4e2b0>"
      ]
     },
     "execution_count": 18,
     "metadata": {},
     "output_type": "execute_result"
    }
   ],
   "source": [
    "d2d"
   ]
  },
  {
   "cell_type": "code",
   "execution_count": 20,
   "id": "a4ddb6b8",
   "metadata": {},
   "outputs": [
    {
     "data": {
      "image/png": "[encoded data removed]",
      "text/plain": [
       "<IPython.core.display.Image object>"
      ]
     },
     "metadata": {},
     "output_type": "display_data"
    }
   ],
   "source": [
    "p = d2d.GetDrawingText()\n",
    "\n",
    "import IPython.display\n",
    "i = IPython.display.Image(p)\n",
    "display(i)"
   ]
  },
  {
   "cell_type": "code",
   "execution_count": 22,
   "id": "eba51aa6",
   "metadata": {},
   "outputs": [
    {
     "data": {
      "text/plain": [
       "{}"
      ]
     },
     "execution_count": 22,
     "metadata": {},
     "output_type": "execute_result"
    }
   ],
   "source": [
    "rxn."
   ]
  },
  {
   "cell_type": "code",
   "execution_count": null,
   "id": "0354357f",
   "metadata": {},
   "outputs": [],
   "source": []
  }
 ],
 "metadata": {
  "kernelspec": {
   "display_name": "Python 3 (ipykernel)",
   "language": "python",
   "name": "python3"
  },
  "language_info": {
   "codemirror_mode": {
    "name": "ipython",
    "version": 3
   },
   "file_extension": ".py",
   "mimetype": "text/x-python",
   "name": "python",
   "nbconvert_exporter": "python",
   "pygments_lexer": "ipython3",
   "version": "3.7.13"
  }
 },
 "nbformat": 4,
 "nbformat_minor": 5
}
